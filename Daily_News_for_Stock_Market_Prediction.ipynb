{
 "cells": [
  {
   "cell_type": "markdown",
   "metadata": {},
   "source": [
    "# <center> The Use of NLP and Deep Learning on News Headlines to Predict Stock Movements <center/>"
   ]
  },
  {
   "cell_type": "markdown",
   "metadata": {},
   "source": [
    "<a href='https://finance.yahoo.com/quote/%5EDJI/history?p=%5EDJI'><img src='img/DJIA_closing_prices.png' width=\"600\" height=\"400\"/></a>"
   ]
  },
  {
   "cell_type": "markdown",
   "metadata": {},
   "source": [
    "### Table of Contents\n",
    "\n",
    "1. <a href=\"#1.-Data-Preparation\">Data Preparation</a> <br>\n",
    "    1.1 <a href=\"#1.1-Packages-to-be-Imported\">Packages to be Imported</a> <br>\n",
    "    1.2 <a href=\"#1.2-General-Info-about-the-Dataset\">General Info about the Dataset</a> <br>\n",
    "    1.3 <a href=\"#1.3-Text-Preprocessing\">Text Preprocessing</a> <br>\n",
    "    1.4 <a href=\"#1.4-Splitting-Data-into-Train-and-Test-Sets\">Splitting Data into Train and Test Sets</a> <br>\n",
    "<br>    \n",
    "2. <a href=\"#2.-Model-Evaluation\">Model Evaluation</a> <br>\n",
    "    2.1 <a href=\"#2.1-Model-Evaluation-Function\">Model Evaluation Function</a> <br>\n",
    "    2.2 <a href=\"#2.2-Plotting-ROC-Curve\">Plotting ROC Curve</a> <br>\n",
    "<br>\n",
    "3. <a href=\"#3.-Model-Building\">Model Building</a> <br>\n",
    "    3.1 <a href=\"#3.1-Logistic-Regression\">Logistic Regression</a> <br>\n",
    "    3.2 <a href=\"#3.2-Multinomial-Naive-Bayes\">Multinomial Naive Bayes</a> <br>\n",
    "    3.3 <a href=\"#3.3-Random-Forest-Classifier\">Random Forest Classifier</a> <br>\n",
    "    3.4 <a href=\"#3.4-Support-Vector-Machine-Classifier-(SVM)\">Support Vector Machine Classifier (SVM)</a> <br>\n",
    "    3.5 <a href=\"#3.5-XGBoost-Classifier\">XGBoost Classifier</a> <br>\n",
    "    3.6 <a href=\"#3.6-Bernouilli-Naive-Bayes\">Bernouilli Naive Bayes</a> <br>\n",
    "    3.7 <a href=\"#3.7-Deep-Learning\">Deep Learning</a> <br>\n",
    "    3.7.1 <a href=\"#3.7.1-Multilayer-Perceptron-(MLP)\">Multilayer Perceptron (MLP)</a> <br>\n",
    "    3.7.2 <a href=\"#3.7.2-Recurrent-Nueral-Network-(RNN)---LTSM\">Recurrent Nueral Network (RNN) - LSTM</a> <br>\n",
    "    3.7.3 <a href=\"#3.7.3-Convolutional-Neural-Network-(CNN)\">Convolutional Neural Network (CNN)</a> <br>\n",
    "<br>\n",
    "4. <a href=\"#4.-Model-Tuning\">Model Tuning</a> <br>\n",
    "<br>\n",
    "5. <a href=\"#5.-Conclusion\">Conclusion</a>"
   ]
  },
  {
   "cell_type": "markdown",
   "metadata": {},
   "source": [
    "##### About the Dow Jones Industrial Average (DJIA):\n",
    "\n",
    "The Dow Jones Industrial Average (DJIA) is a stock market index that tracks the stock performance of 30 large, publicly owned companies (blue-chip companies) listed on stock exchange in the United States (See the companies listed in DJIA below).  "
   ]
  },
  {
   "cell_type": "markdown",
   "metadata": {},
   "source": [
    "#### <center> Components of the Dow Jones as of April 6, 2020 <center/>\n",
    "\n",
    "|Company Name|Ticker|Exchange|                                         |Company Name|Ticker|Exchange|\n",
    "|:- |:-:|:-:|                                                          |:-|:-:|:-:|\n",
    "|3M Company|MMM|NYSE|                                                  |JPMorgan Chase & Co.|JPM|NYSE|\n",
    "|American Express Company|AXP|NYSE|                                    |McDonald's Corporation|MCD|NYSE|\n",
    "|Apple Inc.|AAPL|NASDAQ|                                               |Merck & Co., Inc.|MRK|NYSE|\n",
    "|Boeing Company|BA|NYSE|                                               |Microsoft Corporation|MSFT|NASDAQ|  \n",
    "|Caterpillar Inc.|CAT|NYSE|                                            |Nike, Inc.|NKE|NYSE|\n",
    "|Chevron Corporation|CVX|NYSE|                                         |Pfizer Inc.|PFE|NYSE|\n",
    "|Cisco Systems, Inc.|CSCO|NASDAQ|                                      |The Procter & Gamble Company|PG|NYSE|\n",
    "|The Coca-Cola Company|KO|NYSE|                                        |Raytheon Technologies|RTX|NYSE|\n",
    "|Dow Chemical Company|DOW|NYSE|                                        |The Travelers Companies, Inc.|TRV|NYSE|\n",
    "|Exxon Mobil Corporation|XOM|NYSE|                                     |UnitedHealth Group Inc.|UNH|NYSE|\n",
    "|The Goldman Sachs Group, Inc.|GS|NYSE|                                |Verizon Communications, Inc.|VZ|NYSE|    \n",
    "|The Home Depot, Inc.|HD|NYSE|                                         |Visa Inc.|V|NYSE|\n",
    "|Intel Corporation|INTC|NASDAQ|                                        |Walgreens Boots Alliance, Inc.|WBA|NASDAQ|\n",
    "|International Business Machines Corporation|IBM|NYSE|                 |Walmart Inc.|WMT|NYSE|\n",
    "|Johnson & Johnson|JNJ|NYSE|                                           |The Walt Disney Company|DIS|NYSE|"
   ]
  },
  {
   "cell_type": "markdown",
   "metadata": {},
   "source": [
    "##### Problem Statement:\n",
    "\n",
    "A significant number of companies in the financial services and banking industry have long spent millions of dollars and dedicated a vast amount of resources to quantify and analyze qualitative data from a variety of media outlets in order to gain valuable information in making investment decisions. This project attempts to demonstrate the viability of the use of natural language processing techniques to extract information from Reddit news headlines to predict stock movements. Prior studies and projects have shown how useful natural language processing word embeddings extracted from the social media outlets such as Twitter and Facebook are in predicting stock prices. In this respect, this particular project builds upon the past work by using the NLP word embeddings and various deep learning neural network architectures to predict the movements of the Dow Jones index in the U.S. stock market."
   ]
  },
  {
   "cell_type": "markdown",
   "metadata": {},
   "source": [
    "##### About the Dataset:\n",
    "\n",
    "The data for this project were acquired from the Kaggle.com. Two sets of datasets were  available for Reddit historical news headlines and Dow Jones Industrial Average (DJIA) stock data. The data for the news headlines were crawled from Reddit WorldNews channel (r/worldnews). Only the top 25 news headlines were considered for a single date. The DJIA stock data were downloaded directly from the Yahoo Finance. The combined dataset includes a date column and a label column along with 25 news headlines columns. The 'Label' column is the target feature and consists of the values of 0 and 1. While 1 indicates that the DJIA adjusted close value stayed the same or goes up on that date, 0 represents that it fell on that particular date. \n",
    "\n",
    "The complete dataset used for this project can be acquired using the following link:\n",
    "https://www.kaggle.com/aaron7sun/stocknews"
   ]
  },
  {
   "cell_type": "markdown",
   "metadata": {},
   "source": [
    "# 1. Data Preparation"
   ]
  },
  {
   "cell_type": "markdown",
   "metadata": {},
   "source": [
    "It is extremely important that we preprocess the data before feeding it into our model as the quality of data and the useful information that can be derived from the data directly affects the ability of our model to learn. This section includes the packages to be used throughout this project, the general info about the dataset, text preprocessing steps, and splitting data into train and test sets."
   ]
  },
  {
   "cell_type": "markdown",
   "metadata": {},
   "source": [
    "### 1.1 Packages to be Imported"
   ]
  },
  {
   "cell_type": "code",
   "execution_count": 1,
   "metadata": {},
   "outputs": [
    {
     "name": "stderr",
     "output_type": "stream",
     "text": [
      "Using TensorFlow backend.\n"
     ]
    }
   ],
   "source": [
    "# import the necessary libraries\n",
    "import numpy as np\n",
    "import pandas as pd\n",
    "import matplotlib.pyplot as plt\n",
    "import seaborn as sns\n",
    "sns.set_style('white')\n",
    "\n",
    "from tqdm import tqdm\n",
    "\n",
    "from nltk.tokenize import word_tokenize\n",
    "from nltk.corpus import stopwords\n",
    "from nltk.stem import WordNetLemmatizer\n",
    "\n",
    "from sklearn.feature_extraction.text import CountVectorizer, TfidfVectorizer, TfidfTransformer\n",
    "from sklearn.pipeline import Pipeline\n",
    "from sklearn.linear_model import LogisticRegression\n",
    "from sklearn.feature_selection import chi2, SelectKBest\n",
    "from sklearn.model_selection import GridSearchCV\n",
    "from sklearn.metrics import roc_curve, auc, confusion_matrix, classification_report\n",
    "from sklearn.metrics import roc_auc_score, precision_score, recall_score, accuracy_score, f1_score\n",
    "from sklearn.naive_bayes import MultinomialNB, BernoulliNB\n",
    "from sklearn.ensemble import RandomForestClassifier\n",
    "from sklearn.svm import SVC\n",
    "from sklearn.preprocessing import FunctionTransformer, MaxAbsScaler\n",
    "\n",
    "from xgboost import XGBClassifier\n",
    "\n",
    "from keras.preprocessing import sequence\n",
    "from keras.utils import to_categorical\n",
    "from keras.models import Sequential\n",
    "from keras.layers.core import Dense, Dropout, Activation, Lambda\n",
    "from keras.layers.embeddings import Embedding\n",
    "from keras.layers.recurrent import LSTM\n",
    "from keras.preprocessing.text import Tokenizer\n",
    "from keras.layers.convolutional import Convolution1D\n",
    "from keras.callbacks import EarlyStopping\n",
    "from keras.optimizers import Adam\n",
    "from keras import backend as K\n",
    "\n",
    "import os\n",
    "import random\n",
    "from numpy.random import seed\n",
    "import tensorflow as tf\n",
    "\n",
    "import warnings\n",
    "warnings.filterwarnings('ignore')\n",
    "\n",
    "# Select 300 best features\n",
    "chi_k = 10000\n",
    "\n",
    "%matplotlib inline"
   ]
  },
  {
   "cell_type": "markdown",
   "metadata": {},
   "source": [
    "### 1.2 General Info about the Dataset"
   ]
  },
  {
   "cell_type": "markdown",
   "metadata": {},
   "source": [
    "First, we start with reading the data into a dataframe."
   ]
  },
  {
   "cell_type": "code",
   "execution_count": 2,
   "metadata": {
    "scrolled": true
   },
   "outputs": [
    {
     "data": {
      "text/html": [
       "<div>\n",
       "<style scoped>\n",
       "    .dataframe tbody tr th:only-of-type {\n",
       "        vertical-align: middle;\n",
       "    }\n",
       "\n",
       "    .dataframe tbody tr th {\n",
       "        vertical-align: top;\n",
       "    }\n",
       "\n",
       "    .dataframe thead th {\n",
       "        text-align: right;\n",
       "    }\n",
       "</style>\n",
       "<table border=\"1\" class=\"dataframe\">\n",
       "  <thead>\n",
       "    <tr style=\"text-align: right;\">\n",
       "      <th></th>\n",
       "      <th>Date</th>\n",
       "      <th>Label</th>\n",
       "      <th>Top1</th>\n",
       "      <th>Top2</th>\n",
       "      <th>Top3</th>\n",
       "      <th>Top4</th>\n",
       "      <th>Top5</th>\n",
       "      <th>Top6</th>\n",
       "      <th>Top7</th>\n",
       "      <th>Top8</th>\n",
       "      <th>...</th>\n",
       "      <th>Top16</th>\n",
       "      <th>Top17</th>\n",
       "      <th>Top18</th>\n",
       "      <th>Top19</th>\n",
       "      <th>Top20</th>\n",
       "      <th>Top21</th>\n",
       "      <th>Top22</th>\n",
       "      <th>Top23</th>\n",
       "      <th>Top24</th>\n",
       "      <th>Top25</th>\n",
       "    </tr>\n",
       "  </thead>\n",
       "  <tbody>\n",
       "    <tr>\n",
       "      <th>0</th>\n",
       "      <td>2008-08-08</td>\n",
       "      <td>0</td>\n",
       "      <td>b\"Georgia 'downs two Russian warplanes' as cou...</td>\n",
       "      <td>b'BREAKING: Musharraf to be impeached.'</td>\n",
       "      <td>b'Russia Today: Columns of troops roll into So...</td>\n",
       "      <td>b'Russian tanks are moving towards the capital...</td>\n",
       "      <td>b\"Afghan children raped with 'impunity,' U.N. ...</td>\n",
       "      <td>b'150 Russian tanks have entered South Ossetia...</td>\n",
       "      <td>b\"Breaking: Georgia invades South Ossetia, Rus...</td>\n",
       "      <td>b\"The 'enemy combatent' trials are nothing but...</td>\n",
       "      <td>...</td>\n",
       "      <td>b'Georgia Invades South Ossetia - if Russia ge...</td>\n",
       "      <td>b'Al-Qaeda Faces Islamist Backlash'</td>\n",
       "      <td>b'Condoleezza Rice: \"The US would not act to p...</td>\n",
       "      <td>b'This is a busy day:  The European Union has ...</td>\n",
       "      <td>b\"Georgia will withdraw 1,000 soldiers from Ir...</td>\n",
       "      <td>b'Why the Pentagon Thinks Attacking Iran is a ...</td>\n",
       "      <td>b'Caucasus in crisis: Georgia invades South Os...</td>\n",
       "      <td>b'Indian shoe manufactory  - And again in a se...</td>\n",
       "      <td>b'Visitors Suffering from Mental Illnesses Ban...</td>\n",
       "      <td>b\"No Help for Mexico's Kidnapping Surge\"</td>\n",
       "    </tr>\n",
       "    <tr>\n",
       "      <th>1</th>\n",
       "      <td>2008-08-11</td>\n",
       "      <td>1</td>\n",
       "      <td>b'Why wont America and Nato help us? If they w...</td>\n",
       "      <td>b'Bush puts foot down on Georgian conflict'</td>\n",
       "      <td>b\"Jewish Georgian minister: Thanks to Israeli ...</td>\n",
       "      <td>b'Georgian army flees in disarray as Russians ...</td>\n",
       "      <td>b\"Olympic opening ceremony fireworks 'faked'\"</td>\n",
       "      <td>b'What were the Mossad with fraudulent New Zea...</td>\n",
       "      <td>b'Russia angered by Israeli military sale to G...</td>\n",
       "      <td>b'An American citizen living in S.Ossetia blam...</td>\n",
       "      <td>...</td>\n",
       "      <td>b'Israel and the US behind the Georgian aggres...</td>\n",
       "      <td>b'\"Do not believe TV, neither Russian nor Geor...</td>\n",
       "      <td>b'Riots are still going on in Montreal (Canada...</td>\n",
       "      <td>b'China to overtake US as largest manufacturer'</td>\n",
       "      <td>b'War in South Ossetia [PICS]'</td>\n",
       "      <td>b'Israeli Physicians Group Condemns State Tort...</td>\n",
       "      <td>b' Russia has just beaten the United States ov...</td>\n",
       "      <td>b'Perhaps *the* question about the Georgia - R...</td>\n",
       "      <td>b'Russia is so much better at war'</td>\n",
       "      <td>b\"So this is what it's come to: trading sex fo...</td>\n",
       "    </tr>\n",
       "    <tr>\n",
       "      <th>2</th>\n",
       "      <td>2008-08-12</td>\n",
       "      <td>0</td>\n",
       "      <td>b'Remember that adorable 9-year-old who sang a...</td>\n",
       "      <td>b\"Russia 'ends Georgia operation'\"</td>\n",
       "      <td>b'\"If we had no sexual harassment we would hav...</td>\n",
       "      <td>b\"Al-Qa'eda is losing support in Iraq because ...</td>\n",
       "      <td>b'Ceasefire in Georgia: Putin Outmaneuvers the...</td>\n",
       "      <td>b'Why Microsoft and Intel tried to kill the XO...</td>\n",
       "      <td>b'Stratfor: The Russo-Georgian War and the Bal...</td>\n",
       "      <td>b\"I'm Trying to Get a Sense of This Whole Geor...</td>\n",
       "      <td>...</td>\n",
       "      <td>b'U.S. troops still in Georgia (did you know t...</td>\n",
       "      <td>b'Why Russias response to Georgia was right'</td>\n",
       "      <td>b'Gorbachev accuses U.S. of making a \"serious ...</td>\n",
       "      <td>b'Russia, Georgia, and NATO: Cold War Two'</td>\n",
       "      <td>b'Remember that adorable 62-year-old who led y...</td>\n",
       "      <td>b'War in Georgia: The Israeli connection'</td>\n",
       "      <td>b'All signs point to the US encouraging Georgi...</td>\n",
       "      <td>b'Christopher King argues that the US and NATO...</td>\n",
       "      <td>b'America: The New Mexico?'</td>\n",
       "      <td>b\"BBC NEWS | Asia-Pacific | Extinction 'by man...</td>\n",
       "    </tr>\n",
       "    <tr>\n",
       "      <th>3</th>\n",
       "      <td>2008-08-13</td>\n",
       "      <td>0</td>\n",
       "      <td>b' U.S. refuses Israel weapons to attack Iran:...</td>\n",
       "      <td>b\"When the president ordered to attack Tskhinv...</td>\n",
       "      <td>b' Israel clears troops who killed Reuters cam...</td>\n",
       "      <td>b'Britain\\'s policy of being tough on drugs is...</td>\n",
       "      <td>b'Body of 14 year old found in trunk; Latest (...</td>\n",
       "      <td>b'China has moved 10 *million* quake survivors...</td>\n",
       "      <td>b\"Bush announces Operation Get All Up In Russi...</td>\n",
       "      <td>b'Russian forces sink Georgian ships '</td>\n",
       "      <td>...</td>\n",
       "      <td>b'Elephants extinct by 2020?'</td>\n",
       "      <td>b'US humanitarian missions soon in Georgia - i...</td>\n",
       "      <td>b\"Georgia's DDOS came from US sources\"</td>\n",
       "      <td>b'Russian convoy heads into Georgia, violating...</td>\n",
       "      <td>b'Israeli defence minister: US against strike ...</td>\n",
       "      <td>b'Gorbachev: We Had No Choice'</td>\n",
       "      <td>b'Witness: Russian forces head towards Tbilisi...</td>\n",
       "      <td>b' Quarter of Russians blame U.S. for conflict...</td>\n",
       "      <td>b'Georgian president  says US military will ta...</td>\n",
       "      <td>b'2006: Nobel laureate Aleksander Solzhenitsyn...</td>\n",
       "    </tr>\n",
       "    <tr>\n",
       "      <th>4</th>\n",
       "      <td>2008-08-14</td>\n",
       "      <td>1</td>\n",
       "      <td>b'All the experts admit that we should legalis...</td>\n",
       "      <td>b'War in South Osetia - 89 pictures made by a ...</td>\n",
       "      <td>b'Swedish wrestler Ara Abrahamian throws away ...</td>\n",
       "      <td>b'Russia exaggerated the death toll in South O...</td>\n",
       "      <td>b'Missile That Killed 9 Inside Pakistan May Ha...</td>\n",
       "      <td>b\"Rushdie Condemns Random House's Refusal to P...</td>\n",
       "      <td>b'Poland and US agree to missle defense deal. ...</td>\n",
       "      <td>b'Will the Russians conquer Tblisi? Bet on it,...</td>\n",
       "      <td>...</td>\n",
       "      <td>b'Bank analyst forecast Georgian crisis 2 days...</td>\n",
       "      <td>b\"Georgia confict could set back Russia's US r...</td>\n",
       "      <td>b'War in the Caucasus is as much the product o...</td>\n",
       "      <td>b'\"Non-media\" photos of South Ossetia/Georgia ...</td>\n",
       "      <td>b'Georgian TV reporter shot by Russian sniper ...</td>\n",
       "      <td>b'Saudi Arabia: Mother moves to block child ma...</td>\n",
       "      <td>b'Taliban wages war on humanitarian aid workers'</td>\n",
       "      <td>b'Russia: World  \"can forget about\" Georgia\\'s...</td>\n",
       "      <td>b'Darfur rebels accuse Sudan of mounting major...</td>\n",
       "      <td>b'Philippines : Peace Advocate say Muslims nee...</td>\n",
       "    </tr>\n",
       "  </tbody>\n",
       "</table>\n",
       "<p>5 rows × 27 columns</p>\n",
       "</div>"
      ],
      "text/plain": [
       "         Date  Label                                               Top1  \\\n",
       "0  2008-08-08      0  b\"Georgia 'downs two Russian warplanes' as cou...   \n",
       "1  2008-08-11      1  b'Why wont America and Nato help us? If they w...   \n",
       "2  2008-08-12      0  b'Remember that adorable 9-year-old who sang a...   \n",
       "3  2008-08-13      0  b' U.S. refuses Israel weapons to attack Iran:...   \n",
       "4  2008-08-14      1  b'All the experts admit that we should legalis...   \n",
       "\n",
       "                                                Top2  \\\n",
       "0            b'BREAKING: Musharraf to be impeached.'   \n",
       "1        b'Bush puts foot down on Georgian conflict'   \n",
       "2                 b\"Russia 'ends Georgia operation'\"   \n",
       "3  b\"When the president ordered to attack Tskhinv...   \n",
       "4  b'War in South Osetia - 89 pictures made by a ...   \n",
       "\n",
       "                                                Top3  \\\n",
       "0  b'Russia Today: Columns of troops roll into So...   \n",
       "1  b\"Jewish Georgian minister: Thanks to Israeli ...   \n",
       "2  b'\"If we had no sexual harassment we would hav...   \n",
       "3  b' Israel clears troops who killed Reuters cam...   \n",
       "4  b'Swedish wrestler Ara Abrahamian throws away ...   \n",
       "\n",
       "                                                Top4  \\\n",
       "0  b'Russian tanks are moving towards the capital...   \n",
       "1  b'Georgian army flees in disarray as Russians ...   \n",
       "2  b\"Al-Qa'eda is losing support in Iraq because ...   \n",
       "3  b'Britain\\'s policy of being tough on drugs is...   \n",
       "4  b'Russia exaggerated the death toll in South O...   \n",
       "\n",
       "                                                Top5  \\\n",
       "0  b\"Afghan children raped with 'impunity,' U.N. ...   \n",
       "1      b\"Olympic opening ceremony fireworks 'faked'\"   \n",
       "2  b'Ceasefire in Georgia: Putin Outmaneuvers the...   \n",
       "3  b'Body of 14 year old found in trunk; Latest (...   \n",
       "4  b'Missile That Killed 9 Inside Pakistan May Ha...   \n",
       "\n",
       "                                                Top6  \\\n",
       "0  b'150 Russian tanks have entered South Ossetia...   \n",
       "1  b'What were the Mossad with fraudulent New Zea...   \n",
       "2  b'Why Microsoft and Intel tried to kill the XO...   \n",
       "3  b'China has moved 10 *million* quake survivors...   \n",
       "4  b\"Rushdie Condemns Random House's Refusal to P...   \n",
       "\n",
       "                                                Top7  \\\n",
       "0  b\"Breaking: Georgia invades South Ossetia, Rus...   \n",
       "1  b'Russia angered by Israeli military sale to G...   \n",
       "2  b'Stratfor: The Russo-Georgian War and the Bal...   \n",
       "3  b\"Bush announces Operation Get All Up In Russi...   \n",
       "4  b'Poland and US agree to missle defense deal. ...   \n",
       "\n",
       "                                                Top8  ...  \\\n",
       "0  b\"The 'enemy combatent' trials are nothing but...  ...   \n",
       "1  b'An American citizen living in S.Ossetia blam...  ...   \n",
       "2  b\"I'm Trying to Get a Sense of This Whole Geor...  ...   \n",
       "3             b'Russian forces sink Georgian ships '  ...   \n",
       "4  b'Will the Russians conquer Tblisi? Bet on it,...  ...   \n",
       "\n",
       "                                               Top16  \\\n",
       "0  b'Georgia Invades South Ossetia - if Russia ge...   \n",
       "1  b'Israel and the US behind the Georgian aggres...   \n",
       "2  b'U.S. troops still in Georgia (did you know t...   \n",
       "3                      b'Elephants extinct by 2020?'   \n",
       "4  b'Bank analyst forecast Georgian crisis 2 days...   \n",
       "\n",
       "                                               Top17  \\\n",
       "0                b'Al-Qaeda Faces Islamist Backlash'   \n",
       "1  b'\"Do not believe TV, neither Russian nor Geor...   \n",
       "2       b'Why Russias response to Georgia was right'   \n",
       "3  b'US humanitarian missions soon in Georgia - i...   \n",
       "4  b\"Georgia confict could set back Russia's US r...   \n",
       "\n",
       "                                               Top18  \\\n",
       "0  b'Condoleezza Rice: \"The US would not act to p...   \n",
       "1  b'Riots are still going on in Montreal (Canada...   \n",
       "2  b'Gorbachev accuses U.S. of making a \"serious ...   \n",
       "3             b\"Georgia's DDOS came from US sources\"   \n",
       "4  b'War in the Caucasus is as much the product o...   \n",
       "\n",
       "                                               Top19  \\\n",
       "0  b'This is a busy day:  The European Union has ...   \n",
       "1    b'China to overtake US as largest manufacturer'   \n",
       "2         b'Russia, Georgia, and NATO: Cold War Two'   \n",
       "3  b'Russian convoy heads into Georgia, violating...   \n",
       "4  b'\"Non-media\" photos of South Ossetia/Georgia ...   \n",
       "\n",
       "                                               Top20  \\\n",
       "0  b\"Georgia will withdraw 1,000 soldiers from Ir...   \n",
       "1                     b'War in South Ossetia [PICS]'   \n",
       "2  b'Remember that adorable 62-year-old who led y...   \n",
       "3  b'Israeli defence minister: US against strike ...   \n",
       "4  b'Georgian TV reporter shot by Russian sniper ...   \n",
       "\n",
       "                                               Top21  \\\n",
       "0  b'Why the Pentagon Thinks Attacking Iran is a ...   \n",
       "1  b'Israeli Physicians Group Condemns State Tort...   \n",
       "2          b'War in Georgia: The Israeli connection'   \n",
       "3                     b'Gorbachev: We Had No Choice'   \n",
       "4  b'Saudi Arabia: Mother moves to block child ma...   \n",
       "\n",
       "                                               Top22  \\\n",
       "0  b'Caucasus in crisis: Georgia invades South Os...   \n",
       "1  b' Russia has just beaten the United States ov...   \n",
       "2  b'All signs point to the US encouraging Georgi...   \n",
       "3  b'Witness: Russian forces head towards Tbilisi...   \n",
       "4   b'Taliban wages war on humanitarian aid workers'   \n",
       "\n",
       "                                               Top23  \\\n",
       "0  b'Indian shoe manufactory  - And again in a se...   \n",
       "1  b'Perhaps *the* question about the Georgia - R...   \n",
       "2  b'Christopher King argues that the US and NATO...   \n",
       "3  b' Quarter of Russians blame U.S. for conflict...   \n",
       "4  b'Russia: World  \"can forget about\" Georgia\\'s...   \n",
       "\n",
       "                                               Top24  \\\n",
       "0  b'Visitors Suffering from Mental Illnesses Ban...   \n",
       "1                 b'Russia is so much better at war'   \n",
       "2                        b'America: The New Mexico?'   \n",
       "3  b'Georgian president  says US military will ta...   \n",
       "4  b'Darfur rebels accuse Sudan of mounting major...   \n",
       "\n",
       "                                               Top25  \n",
       "0           b\"No Help for Mexico's Kidnapping Surge\"  \n",
       "1  b\"So this is what it's come to: trading sex fo...  \n",
       "2  b\"BBC NEWS | Asia-Pacific | Extinction 'by man...  \n",
       "3  b'2006: Nobel laureate Aleksander Solzhenitsyn...  \n",
       "4  b'Philippines : Peace Advocate say Muslims nee...  \n",
       "\n",
       "[5 rows x 27 columns]"
      ]
     },
     "execution_count": 2,
     "metadata": {},
     "output_type": "execute_result"
    }
   ],
   "source": [
    "# Read in the data and print the head.\n",
    "data = pd.read_csv('data/Combined_News_DJIA.csv')\n",
    "data.head()"
   ]
  },
  {
   "cell_type": "markdown",
   "metadata": {},
   "source": [
    "The Label feature is currently in the second column. To have better view of the dataframe, let's move it to the end of the dataframe."
   ]
  },
  {
   "cell_type": "code",
   "execution_count": 3,
   "metadata": {},
   "outputs": [
    {
     "data": {
      "text/html": [
       "<div>\n",
       "<style scoped>\n",
       "    .dataframe tbody tr th:only-of-type {\n",
       "        vertical-align: middle;\n",
       "    }\n",
       "\n",
       "    .dataframe tbody tr th {\n",
       "        vertical-align: top;\n",
       "    }\n",
       "\n",
       "    .dataframe thead th {\n",
       "        text-align: right;\n",
       "    }\n",
       "</style>\n",
       "<table border=\"1\" class=\"dataframe\">\n",
       "  <thead>\n",
       "    <tr style=\"text-align: right;\">\n",
       "      <th></th>\n",
       "      <th>Date</th>\n",
       "      <th>Top1</th>\n",
       "      <th>Top2</th>\n",
       "      <th>Top3</th>\n",
       "      <th>Top4</th>\n",
       "      <th>Top5</th>\n",
       "      <th>Top6</th>\n",
       "      <th>Top7</th>\n",
       "      <th>Top8</th>\n",
       "      <th>Top9</th>\n",
       "      <th>...</th>\n",
       "      <th>Top17</th>\n",
       "      <th>Top18</th>\n",
       "      <th>Top19</th>\n",
       "      <th>Top20</th>\n",
       "      <th>Top21</th>\n",
       "      <th>Top22</th>\n",
       "      <th>Top23</th>\n",
       "      <th>Top24</th>\n",
       "      <th>Top25</th>\n",
       "      <th>Label</th>\n",
       "    </tr>\n",
       "  </thead>\n",
       "  <tbody>\n",
       "    <tr>\n",
       "      <th>0</th>\n",
       "      <td>2008-08-08</td>\n",
       "      <td>b\"Georgia 'downs two Russian warplanes' as cou...</td>\n",
       "      <td>b'BREAKING: Musharraf to be impeached.'</td>\n",
       "      <td>b'Russia Today: Columns of troops roll into So...</td>\n",
       "      <td>b'Russian tanks are moving towards the capital...</td>\n",
       "      <td>b\"Afghan children raped with 'impunity,' U.N. ...</td>\n",
       "      <td>b'150 Russian tanks have entered South Ossetia...</td>\n",
       "      <td>b\"Breaking: Georgia invades South Ossetia, Rus...</td>\n",
       "      <td>b\"The 'enemy combatent' trials are nothing but...</td>\n",
       "      <td>b'Georgian troops retreat from S. Osettain cap...</td>\n",
       "      <td>...</td>\n",
       "      <td>b'Al-Qaeda Faces Islamist Backlash'</td>\n",
       "      <td>b'Condoleezza Rice: \"The US would not act to p...</td>\n",
       "      <td>b'This is a busy day:  The European Union has ...</td>\n",
       "      <td>b\"Georgia will withdraw 1,000 soldiers from Ir...</td>\n",
       "      <td>b'Why the Pentagon Thinks Attacking Iran is a ...</td>\n",
       "      <td>b'Caucasus in crisis: Georgia invades South Os...</td>\n",
       "      <td>b'Indian shoe manufactory  - And again in a se...</td>\n",
       "      <td>b'Visitors Suffering from Mental Illnesses Ban...</td>\n",
       "      <td>b\"No Help for Mexico's Kidnapping Surge\"</td>\n",
       "      <td>0</td>\n",
       "    </tr>\n",
       "    <tr>\n",
       "      <th>1</th>\n",
       "      <td>2008-08-11</td>\n",
       "      <td>b'Why wont America and Nato help us? If they w...</td>\n",
       "      <td>b'Bush puts foot down on Georgian conflict'</td>\n",
       "      <td>b\"Jewish Georgian minister: Thanks to Israeli ...</td>\n",
       "      <td>b'Georgian army flees in disarray as Russians ...</td>\n",
       "      <td>b\"Olympic opening ceremony fireworks 'faked'\"</td>\n",
       "      <td>b'What were the Mossad with fraudulent New Zea...</td>\n",
       "      <td>b'Russia angered by Israeli military sale to G...</td>\n",
       "      <td>b'An American citizen living in S.Ossetia blam...</td>\n",
       "      <td>b'Welcome To World War IV! Now In High Definit...</td>\n",
       "      <td>...</td>\n",
       "      <td>b'\"Do not believe TV, neither Russian nor Geor...</td>\n",
       "      <td>b'Riots are still going on in Montreal (Canada...</td>\n",
       "      <td>b'China to overtake US as largest manufacturer'</td>\n",
       "      <td>b'War in South Ossetia [PICS]'</td>\n",
       "      <td>b'Israeli Physicians Group Condemns State Tort...</td>\n",
       "      <td>b' Russia has just beaten the United States ov...</td>\n",
       "      <td>b'Perhaps *the* question about the Georgia - R...</td>\n",
       "      <td>b'Russia is so much better at war'</td>\n",
       "      <td>b\"So this is what it's come to: trading sex fo...</td>\n",
       "      <td>1</td>\n",
       "    </tr>\n",
       "  </tbody>\n",
       "</table>\n",
       "<p>2 rows × 27 columns</p>\n",
       "</div>"
      ],
      "text/plain": [
       "         Date                                               Top1  \\\n",
       "0  2008-08-08  b\"Georgia 'downs two Russian warplanes' as cou...   \n",
       "1  2008-08-11  b'Why wont America and Nato help us? If they w...   \n",
       "\n",
       "                                          Top2  \\\n",
       "0      b'BREAKING: Musharraf to be impeached.'   \n",
       "1  b'Bush puts foot down on Georgian conflict'   \n",
       "\n",
       "                                                Top3  \\\n",
       "0  b'Russia Today: Columns of troops roll into So...   \n",
       "1  b\"Jewish Georgian minister: Thanks to Israeli ...   \n",
       "\n",
       "                                                Top4  \\\n",
       "0  b'Russian tanks are moving towards the capital...   \n",
       "1  b'Georgian army flees in disarray as Russians ...   \n",
       "\n",
       "                                                Top5  \\\n",
       "0  b\"Afghan children raped with 'impunity,' U.N. ...   \n",
       "1      b\"Olympic opening ceremony fireworks 'faked'\"   \n",
       "\n",
       "                                                Top6  \\\n",
       "0  b'150 Russian tanks have entered South Ossetia...   \n",
       "1  b'What were the Mossad with fraudulent New Zea...   \n",
       "\n",
       "                                                Top7  \\\n",
       "0  b\"Breaking: Georgia invades South Ossetia, Rus...   \n",
       "1  b'Russia angered by Israeli military sale to G...   \n",
       "\n",
       "                                                Top8  \\\n",
       "0  b\"The 'enemy combatent' trials are nothing but...   \n",
       "1  b'An American citizen living in S.Ossetia blam...   \n",
       "\n",
       "                                                Top9  ...  \\\n",
       "0  b'Georgian troops retreat from S. Osettain cap...  ...   \n",
       "1  b'Welcome To World War IV! Now In High Definit...  ...   \n",
       "\n",
       "                                               Top17  \\\n",
       "0                b'Al-Qaeda Faces Islamist Backlash'   \n",
       "1  b'\"Do not believe TV, neither Russian nor Geor...   \n",
       "\n",
       "                                               Top18  \\\n",
       "0  b'Condoleezza Rice: \"The US would not act to p...   \n",
       "1  b'Riots are still going on in Montreal (Canada...   \n",
       "\n",
       "                                               Top19  \\\n",
       "0  b'This is a busy day:  The European Union has ...   \n",
       "1    b'China to overtake US as largest manufacturer'   \n",
       "\n",
       "                                               Top20  \\\n",
       "0  b\"Georgia will withdraw 1,000 soldiers from Ir...   \n",
       "1                     b'War in South Ossetia [PICS]'   \n",
       "\n",
       "                                               Top21  \\\n",
       "0  b'Why the Pentagon Thinks Attacking Iran is a ...   \n",
       "1  b'Israeli Physicians Group Condemns State Tort...   \n",
       "\n",
       "                                               Top22  \\\n",
       "0  b'Caucasus in crisis: Georgia invades South Os...   \n",
       "1  b' Russia has just beaten the United States ov...   \n",
       "\n",
       "                                               Top23  \\\n",
       "0  b'Indian shoe manufactory  - And again in a se...   \n",
       "1  b'Perhaps *the* question about the Georgia - R...   \n",
       "\n",
       "                                               Top24  \\\n",
       "0  b'Visitors Suffering from Mental Illnesses Ban...   \n",
       "1                 b'Russia is so much better at war'   \n",
       "\n",
       "                                               Top25 Label  \n",
       "0           b\"No Help for Mexico's Kidnapping Surge\"     0  \n",
       "1  b\"So this is what it's come to: trading sex fo...     1  \n",
       "\n",
       "[2 rows x 27 columns]"
      ]
     },
     "execution_count": 3,
     "metadata": {},
     "output_type": "execute_result"
    }
   ],
   "source": [
    "# Move the Label feature to the end of the dataframe.\n",
    "columns = list(data.columns)\n",
    "columns.append(columns.pop(columns.index('Label')))\n",
    "data = data.loc[:, columns]\n",
    "data.head(2)"
   ]
  },
  {
   "cell_type": "markdown",
   "metadata": {},
   "source": [
    "Now, we check the shape of our dataset. The entire dataset includes a total of 1989 rows and 27 features/columns."
   ]
  },
  {
   "cell_type": "code",
   "execution_count": 4,
   "metadata": {},
   "outputs": [
    {
     "data": {
      "text/plain": [
       "(1989, 27)"
      ]
     },
     "execution_count": 4,
     "metadata": {},
     "output_type": "execute_result"
    }
   ],
   "source": [
    "# Check shape of dataset.\n",
    "data.shape"
   ]
  },
  {
   "cell_type": "markdown",
   "metadata": {},
   "source": [
    "The features in our dataset printed below. There are a total of 27 features. Label feature is the target variable, while the features start with \"Top\" are the predictor variables. As a reminder, the Label feature has values of 0 and 1. While 1 indicates that the DJIA adjusted close value stayed the same or goes up on that date, 0 represents that it fell on that particular date."
   ]
  },
  {
   "cell_type": "code",
   "execution_count": 5,
   "metadata": {},
   "outputs": [
    {
     "data": {
      "text/plain": [
       "Index(['Date', 'Top1', 'Top2', 'Top3', 'Top4', 'Top5', 'Top6', 'Top7', 'Top8',\n",
       "       'Top9', 'Top10', 'Top11', 'Top12', 'Top13', 'Top14', 'Top15', 'Top16',\n",
       "       'Top17', 'Top18', 'Top19', 'Top20', 'Top21', 'Top22', 'Top23', 'Top24',\n",
       "       'Top25', 'Label'],\n",
       "      dtype='object')"
      ]
     },
     "execution_count": 5,
     "metadata": {},
     "output_type": "execute_result"
    }
   ],
   "source": [
    "data.columns"
   ]
  },
  {
   "cell_type": "markdown",
   "metadata": {},
   "source": [
    "It is always extremely useful to have a better insight about the data types of the features. Except the Label feature, all the features have object data type. We can convert the Date feature to a datetime object, but it is not necessary. So we will keep it in that way."
   ]
  },
  {
   "cell_type": "code",
   "execution_count": 6,
   "metadata": {},
   "outputs": [
    {
     "name": "stdout",
     "output_type": "stream",
     "text": [
      "<class 'pandas.core.frame.DataFrame'>\n",
      "RangeIndex: 1989 entries, 0 to 1988\n",
      "Data columns (total 27 columns):\n",
      " #   Column  Non-Null Count  Dtype \n",
      "---  ------  --------------  ----- \n",
      " 0   Date    1989 non-null   object\n",
      " 1   Top1    1989 non-null   object\n",
      " 2   Top2    1989 non-null   object\n",
      " 3   Top3    1989 non-null   object\n",
      " 4   Top4    1989 non-null   object\n",
      " 5   Top5    1989 non-null   object\n",
      " 6   Top6    1989 non-null   object\n",
      " 7   Top7    1989 non-null   object\n",
      " 8   Top8    1989 non-null   object\n",
      " 9   Top9    1989 non-null   object\n",
      " 10  Top10   1989 non-null   object\n",
      " 11  Top11   1989 non-null   object\n",
      " 12  Top12   1989 non-null   object\n",
      " 13  Top13   1989 non-null   object\n",
      " 14  Top14   1989 non-null   object\n",
      " 15  Top15   1989 non-null   object\n",
      " 16  Top16   1989 non-null   object\n",
      " 17  Top17   1989 non-null   object\n",
      " 18  Top18   1989 non-null   object\n",
      " 19  Top19   1989 non-null   object\n",
      " 20  Top20   1989 non-null   object\n",
      " 21  Top21   1989 non-null   object\n",
      " 22  Top22   1989 non-null   object\n",
      " 23  Top23   1988 non-null   object\n",
      " 24  Top24   1986 non-null   object\n",
      " 25  Top25   1986 non-null   object\n",
      " 26  Label   1989 non-null   int64 \n",
      "dtypes: int64(1), object(26)\n",
      "memory usage: 419.7+ KB\n"
     ]
    }
   ],
   "source": [
    "# print the info of the data\n",
    "data.info()"
   ]
  },
  {
   "cell_type": "markdown",
   "metadata": {},
   "source": [
    "Let's check for the missing data. To do so, we use a package called `missingno`, which gives us a quick visual view of the completeness of the data. "
   ]
  },
  {
   "cell_type": "code",
   "execution_count": 7,
   "metadata": {},
   "outputs": [
    {
     "data": {
      "image/png": "[encoded data removed]",
      "text/plain": [
       "<Figure size 1800x720 with 2 Axes>"
      ]
     },
     "metadata": {
      "needs_background": "light"
     },
     "output_type": "display_data"
    }
   ],
   "source": [
    "# First, we check for the missing data.\n",
    "import missingno as msno\n",
    "msno.matrix(data)\n",
    "\n",
    "plt.show()"
   ]
  },
  {
   "cell_type": "markdown",
   "metadata": {},
   "source": [
    "It is clear that there is only a few number of rows with missing values."
   ]
  },
  {
   "cell_type": "markdown",
   "metadata": {},
   "source": [
    "Lastly, we look for the individual value counts for the target feature. The Label feature has almost equal number of 1 and 0s, indicating the dataset is balanced. During this period, 1065 times the stock prices for DJIA either stayed the same or went up, whereas 924 times went down.  "
   ]
  },
  {
   "cell_type": "code",
   "execution_count": 8,
   "metadata": {},
   "outputs": [
    {
     "data": {
      "text/plain": [
       "1    1065\n",
       "0     924\n",
       "Name: Label, dtype: int64"
      ]
     },
     "execution_count": 8,
     "metadata": {},
     "output_type": "execute_result"
    }
   ],
   "source": [
    "data['Label'].value_counts()"
   ]
  },
  {
   "cell_type": "markdown",
   "metadata": {},
   "source": [
    "### 1.3 Text Preprocessing"
   ]
  },
  {
   "cell_type": "markdown",
   "metadata": {},
   "source": [
    "Now that the data is loaded in and we checked the quality of data, we need to preprocess the text data to prepare it for the rest of the analysis. The following text preprocessing steps will be taken in a function below:\n",
    "1. Lowercasing \n",
    "2. Removing unwanted tokens (alpha-numeric tokens will be beneficial)\n",
    "3. Lemmatization"
   ]
  },
  {
   "cell_type": "code",
   "execution_count": 9,
   "metadata": {},
   "outputs": [
    {
     "name": "stderr",
     "output_type": "stream",
     "text": [
      "[nltk_data] Downloading package stopwords to\n",
      "[nltk_data]     C:\\Users\\Admin\\AppData\\Roaming\\nltk_data...\n",
      "[nltk_data]   Package stopwords is already up-to-date!\n",
      "[nltk_data] Downloading package wordnet to\n",
      "[nltk_data]     C:\\Users\\Admin\\AppData\\Roaming\\nltk_data...\n",
      "[nltk_data]   Package wordnet is already up-to-date!\n"
     ]
    },
    {
     "data": {
      "text/plain": [
       "True"
      ]
     },
     "execution_count": 9,
     "metadata": {},
     "output_type": "execute_result"
    }
   ],
   "source": [
    "# Download 'stopwords' and 'wordnet' from the nltk library\n",
    "import nltk\n",
    "nltk.download('stopwords')\n",
    "nltk.download('wordnet')"
   ]
  },
  {
   "cell_type": "code",
   "execution_count": 10,
   "metadata": {},
   "outputs": [],
   "source": [
    "# Define a function to preprocess the text data\n",
    "def text_preprocess(text):\n",
    "    \"\"\"\n",
    "    Takes a string of text and performs the following:\n",
    "    1. Tokenize and removes punctuation\n",
    "    2. Removes stopwords\n",
    "    3. Lemmatize\n",
    "    4. Returns a list of preprocessed text\n",
    "    \"\"\"\n",
    "    \n",
    "    if pd.isnull(text):\n",
    "        return []\n",
    "    \n",
    "    # Retain alphabetic words\n",
    "    alpha_only = [t for t in word_tokenize(text.lower()) if t.isalpha()]\n",
    "    \n",
    "    # Remove all stop words\n",
    "    no_stops = [t for t in alpha_only if t not in stopwords.words('english')]\n",
    "    \n",
    "    # Lemmatize all tokens into a new list\n",
    "    wordnet_lemmatizer = WordNetLemmatizer()\n",
    "    text_processed = [wordnet_lemmatizer.lemmatize(t) for t in no_stops]\n",
    "    \n",
    "    try: \n",
    "        text_processed.remove('b')\n",
    "    except:\n",
    "        pass\n",
    "    \n",
    "    return text_processed"
   ]
  },
  {
   "cell_type": "markdown",
   "metadata": {},
   "source": [
    "We need to combine text columns for tokenization. So we need a function that turns a list of strings into a single string per row (single vector per row)."
   ]
  },
  {
   "cell_type": "code",
   "execution_count": 11,
   "metadata": {},
   "outputs": [],
   "source": [
    "NON_TEXT_COLUMNS = data[['Date', 'Label']]\n",
    "\n",
    "# Define a function to convert rows into single vectors\n",
    "def combine_text_columns(data_frame, to_drop=NON_TEXT_COLUMNS):\n",
    "    \"\"\" \n",
    "    Converts all text in each row of data_frame to single vector\n",
    "    \"\"\"\n",
    "    \n",
    "    # Drop non-text columns that are in the df\n",
    "    to_drop = set(to_drop) & set(data_frame.columns.tolist())\n",
    "    text_data = data_frame.drop(to_drop, axis=1)\n",
    "    \n",
    "    # Replace np.nans with blanks\n",
    "    text_data.fillna(\"\", inplace=True)\n",
    "    \n",
    "    # Join all text items in a row that have a space in between\n",
    "    return text_data.apply(lambda x: \" \".join(x), axis=1)"
   ]
  },
  {
   "cell_type": "markdown",
   "metadata": {},
   "source": [
    "### 1.4 Splitting Data into Train and Test Sets"
   ]
  },
  {
   "cell_type": "markdown",
   "metadata": {},
   "source": [
    "The last step in our data preparation section is to split data into train and test sets. Per the instructions, we will use all of the dates up until 2014-12-31 as our training set and the following two years as our test set which corresponds to roughly 80% training set and 20% test set."
   ]
  },
  {
   "cell_type": "code",
   "execution_count": 12,
   "metadata": {},
   "outputs": [],
   "source": [
    "# Split the data into train and test sets\n",
    "train = data[data['Date'] < '2015-01-01']\n",
    "test = data[data['Date'] > '2014-12-31']"
   ]
  },
  {
   "cell_type": "code",
   "execution_count": 13,
   "metadata": {},
   "outputs": [],
   "source": [
    "# Extract the features and the response variables\n",
    "y_train = train['Label']\n",
    "X_train = train.drop('Label', axis=1)\n",
    "\n",
    "y_test = test['Label']\n",
    "X_test = test.drop('Label', axis=1)"
   ]
  },
  {
   "cell_type": "code",
   "execution_count": 14,
   "metadata": {},
   "outputs": [
    {
     "name": "stdout",
     "output_type": "stream",
     "text": [
      "(1611,)\n",
      "(1611, 26)\n"
     ]
    }
   ],
   "source": [
    "# check the shape of train datasets\n",
    "print(y_train.shape)\n",
    "print(X_train.shape)"
   ]
  },
  {
   "cell_type": "markdown",
   "metadata": {},
   "source": [
    "<a href=\"#Table-of-Contents\">Back to Top</a> <br>"
   ]
  },
  {
   "cell_type": "markdown",
   "metadata": {},
   "source": [
    "***************"
   ]
  },
  {
   "cell_type": "markdown",
   "metadata": {},
   "source": [
    "# 2. Model Evaluation"
   ]
  },
  {
   "cell_type": "markdown",
   "metadata": {},
   "source": [
    "This section includes two functions to be used to evaluate model performances in the following section - Model Evaluation Function and Plotting ROC Curve."
   ]
  },
  {
   "cell_type": "markdown",
   "metadata": {},
   "source": [
    "### 2.1 Model Evaluation Function"
   ]
  },
  {
   "cell_type": "code",
   "execution_count": 15,
   "metadata": {},
   "outputs": [],
   "source": [
    "# We will list and compare the different algorithms. \n",
    "model_evaluation = []\n",
    "\n",
    "def Evaluation(model, X_test, y_test, y_pred):\n",
    "    \"\"\"\n",
    "    This function is to produce:\n",
    "    - Classification report\n",
    "    - Confusion matrix\n",
    "    - ROC-AUC score\n",
    "    \"\"\"\n",
    "    # Display the model being used\n",
    "    print(model, '\\n')\n",
    "    \n",
    "    # Print the classification report\n",
    "    print(classification_report(y_test, y_pred))\n",
    "    \n",
    "    # Plot the confusion matrix\n",
    "    sns.set(font_scale=1.4)\n",
    "    plt.figure(figsize=(8,5))\n",
    "    cm = confusion_matrix(y_test, y_pred)\n",
    "    ax = sns.heatmap(cm, cmap='Blues', annot=True, fmt='d', square=True)\n",
    "    ax.set_xlabel('Predicted Value')\n",
    "    ax.set_ylabel('Actual Value')\n",
    "    plt.show()\n",
    "    \n",
    "    # Compute and print AUC score\n",
    "    #y_pred_prob = model.predict_proba(X_test)[:,1]\n",
    "    roc_auc = roc_auc_score(y_test, y_pred)\n",
    "    print(\"ROC-AUC score: {:.2f}\".format(roc_auc))\n",
    "    \n",
    "    \n",
    "    # Append model statistics to model_evaluation list\n",
    "    Precision=precision_score(y_test,y_pred)\n",
    "    Accuracy=accuracy_score(y_test,y_pred)\n",
    "    Recall=recall_score(y_test,y_pred)\n",
    "    F1=f1_score(y_test,y_pred)\n",
    "    model_evaluation.append([model, Accuracy, roc_auc, Precision, Recall, F1])"
   ]
  },
  {
   "cell_type": "markdown",
   "metadata": {},
   "source": [
    "### 2.2 Plotting ROC Curve"
   ]
  },
  {
   "cell_type": "code",
   "execution_count": 16,
   "metadata": {},
   "outputs": [],
   "source": [
    "def ROCCurve(Actual, Predicted):\n",
    "    \"\"\"\n",
    "    Computes and plots ROC curve and AUC score.\n",
    "    To plot ROC curves for multi-label classification, see the following link:\n",
    "    https://scikit-learn.org/stable/auto_examples/model_selection/plot_roc.html\n",
    "    \"\"\"\n",
    "\n",
    "    # Compute ROC curve and AUC \n",
    "    fpr, tpr, threshold = roc_curve(Actual.ravel(), Predicted.ravel())\n",
    "    roc_auc = auc(fpr, tpr)\n",
    "    \n",
    "    plt.figure(figsize=(8,5))\n",
    "    plt.plot(fpr, tpr, label='AUC = %0.2f'% roc_auc, linewidth=2)\n",
    "    plt.plot([0, 1], [0, 1], 'k--')\n",
    "    plt.xlim([0.0, 1.0])\n",
    "    plt.ylim([0.0, 1.05])\n",
    "    plt.xlabel('False Positive Rate')\n",
    "    plt.ylabel('True Positive Rate')\n",
    "    plt.title('ROC Curve')\n",
    "    plt.legend(loc=\"lower right\")\n",
    "    plt.show()"
   ]
  },
  {
   "cell_type": "markdown",
   "metadata": {},
   "source": [
    "<a href=\"#Table-of-Contents\">Back to Top</a> <br>"
   ]
  },
  {
   "cell_type": "markdown",
   "metadata": {},
   "source": [
    "***********"
   ]
  },
  {
   "cell_type": "markdown",
   "metadata": {},
   "source": [
    "# 3. Model Building"
   ]
  },
  {
   "cell_type": "markdown",
   "metadata": {},
   "source": [
    "The third section is devoted to build various models. We first start with some advanced models and proceed with the various deep learning model arhictectures for this classification problem. \n",
    "\n",
    "The candidates for the model algorithms:\n",
    "1. Logistic Regression\n",
    "2. Multinomial Naive Bayes\n",
    "3. Random Forest Classifier\n",
    "4. Support Vector Machine Classifier (SVM)\n",
    "5. XGBoost Classifier\n",
    "6. Bernoulli Naive Bayes"
   ]
  },
  {
   "cell_type": "markdown",
   "metadata": {},
   "source": [
    "### 3.1 Logistic Regression"
   ]
  },
  {
   "cell_type": "code",
   "execution_count": 17,
   "metadata": {},
   "outputs": [],
   "source": [
    "# Perform preprocessing\n",
    "get_text_data = FunctionTransformer(combine_text_columns, validate=False)\n",
    "\n",
    "# Instantiate Pipeline object\n",
    "pl_logreg = Pipeline([\n",
    "        ('selector', get_text_data),\n",
    "        ('vectorizer', CountVectorizer(analyzer=text_preprocess, ngram_range=(1,2))),\n",
    "        ('tfidf', TfidfTransformer()),\n",
    "        ('dim_red', SelectKBest(chi2, chi_k)),\n",
    "        ('classifier', LogisticRegression())\n",
    "    ])\n",
    "\n",
    "# Fit to the training data\n",
    "pl_logreg.fit(X_train, y_train)\n",
    "\n",
    "# Predict the labels\n",
    "y_pred = pl_logreg.predict(X_test)"
   ]
  },
  {
   "cell_type": "code",
   "execution_count": 18,
   "metadata": {},
   "outputs": [
    {
     "name": "stdout",
     "output_type": "stream",
     "text": [
      "Logistic Regression \n",
      "\n",
      "              precision    recall  f1-score   support\n",
      "\n",
      "           0       0.55      0.09      0.16       186\n",
      "           1       0.51      0.93      0.66       192\n",
      "\n",
      "    accuracy                           0.52       378\n",
      "   macro avg       0.53      0.51      0.41       378\n",
      "weighted avg       0.53      0.52      0.41       378\n",
      "\n"
     ]
    },
    {
     "data": {
      "image/png": "[encoded data removed]",
      "text/plain": [
       "<Figure size 576x360 with 2 Axes>"
      ]
     },
     "metadata": {},
     "output_type": "display_data"
    },
    {
     "name": "stdout",
     "output_type": "stream",
     "text": [
      "ROC-AUC score: 0.51\n"
     ]
    }
   ],
   "source": [
    "Evaluation('Logistic Regression', X_test, y_test, y_pred)"
   ]
  },
  {
   "cell_type": "code",
   "execution_count": 19,
   "metadata": {},
   "outputs": [
    {
     "data": {
      "image/png": "[encoded data removed]",
      "text/plain": [
       "<Figure size 576x360 with 1 Axes>"
      ]
     },
     "metadata": {},
     "output_type": "display_data"
    }
   ],
   "source": [
    "# Plot the ROC curve\n",
    "ROCCurve(y_test, y_pred)"
   ]
  },
  {
   "cell_type": "markdown",
   "metadata": {},
   "source": [
    "The dataframe below shows the the top 10 positive and negative coefficients for the features/words after we ran our logistic regression model. Although the top 10 most important words with the highest positive coefficients do not seem to be interesting, those negative ones such as `\"military\"`, `\"hacking\"`, `\"criminal\"`, `\"low\"`, and `\"sanction\"` make sense. "
   ]
  },
  {
   "cell_type": "code",
   "execution_count": 20,
   "metadata": {},
   "outputs": [
    {
     "name": "stderr",
     "output_type": "stream",
     "text": [
      "100%|████████████████████████████████████████████████████████████████████████████████████| 10000/10000 [00:00<?, ?it/s]\n"
     ]
    },
    {
     "data": {
      "text/html": [
       "<div>\n",
       "<style scoped>\n",
       "    .dataframe tbody tr th:only-of-type {\n",
       "        vertical-align: middle;\n",
       "    }\n",
       "\n",
       "    .dataframe tbody tr th {\n",
       "        vertical-align: top;\n",
       "    }\n",
       "\n",
       "    .dataframe thead th {\n",
       "        text-align: right;\n",
       "    }\n",
       "</style>\n",
       "<table border=\"1\" class=\"dataframe\">\n",
       "  <thead>\n",
       "    <tr style=\"text-align: right;\">\n",
       "      <th></th>\n",
       "      <th>Word</th>\n",
       "      <th>Coefficient</th>\n",
       "    </tr>\n",
       "  </thead>\n",
       "  <tbody>\n",
       "    <tr>\n",
       "      <th>6039</th>\n",
       "      <td>nigeria</td>\n",
       "      <td>0.838134</td>\n",
       "    </tr>\n",
       "    <tr>\n",
       "      <th>4702</th>\n",
       "      <td>jew</td>\n",
       "      <td>0.711856</td>\n",
       "    </tr>\n",
       "    <tr>\n",
       "      <th>7244</th>\n",
       "      <td>record</td>\n",
       "      <td>0.665206</td>\n",
       "    </tr>\n",
       "    <tr>\n",
       "      <th>8126</th>\n",
       "      <td>since</td>\n",
       "      <td>0.658388</td>\n",
       "    </tr>\n",
       "    <tr>\n",
       "      <th>8469</th>\n",
       "      <td>state</td>\n",
       "      <td>0.652982</td>\n",
       "    </tr>\n",
       "    <tr>\n",
       "      <th>7552</th>\n",
       "      <td>right</td>\n",
       "      <td>0.652268</td>\n",
       "    </tr>\n",
       "    <tr>\n",
       "      <th>5822</th>\n",
       "      <td>mubarak</td>\n",
       "      <td>0.637640</td>\n",
       "    </tr>\n",
       "    <tr>\n",
       "      <th>7959</th>\n",
       "      <td>set</td>\n",
       "      <td>0.621192</td>\n",
       "    </tr>\n",
       "    <tr>\n",
       "      <th>8854</th>\n",
       "      <td>tear</td>\n",
       "      <td>0.618313</td>\n",
       "    </tr>\n",
       "    <tr>\n",
       "      <th>3272</th>\n",
       "      <td>first</td>\n",
       "      <td>0.601194</td>\n",
       "    </tr>\n",
       "  </tbody>\n",
       "</table>\n",
       "</div>"
      ],
      "text/plain": [
       "         Word  Coefficient\n",
       "6039  nigeria     0.838134\n",
       "4702      jew     0.711856\n",
       "7244   record     0.665206\n",
       "8126    since     0.658388\n",
       "8469    state     0.652982\n",
       "7552    right     0.652268\n",
       "5822  mubarak     0.637640\n",
       "7959      set     0.621192\n",
       "8854     tear     0.618313\n",
       "3272    first     0.601194"
      ]
     },
     "execution_count": 20,
     "metadata": {},
     "output_type": "execute_result"
    }
   ],
   "source": [
    "# Since we reduce the dimension with the SelectKBest, extract those indices\n",
    "inds = pl_logreg.named_steps['dim_red'].get_support(indices=True).tolist()\n",
    "\n",
    "# Extract all the feature names in our model\n",
    "words = pl_logreg.named_steps['vectorizer'].get_feature_names()\n",
    "\n",
    "# Slice the indices above from the all feature names list\n",
    "words_list = []\n",
    "\n",
    "for i in tqdm(inds):\n",
    "    words_list.append(words[i])\n",
    "\n",
    "# Get the coefficients of the features used in the model\n",
    "coeffs = pl_logreg.named_steps['classifier'].coef_[0].tolist()\n",
    "\n",
    "# Create a dataframe from the words and coefficients and sort it\n",
    "coeffsdf = pd.DataFrame({'Word': words_list, 'Coefficient': coeffs})\n",
    "coeffsdf = coeffsdf.sort_values(['Coefficient', 'Word'], ascending=[0, 1])\n",
    "\n",
    "# Display the top 10 words with the highest positive coefficients\n",
    "coeffsdf.head(10)"
   ]
  },
  {
   "cell_type": "code",
   "execution_count": 21,
   "metadata": {},
   "outputs": [
    {
     "data": {
      "text/html": [
       "<div>\n",
       "<style scoped>\n",
       "    .dataframe tbody tr th:only-of-type {\n",
       "        vertical-align: middle;\n",
       "    }\n",
       "\n",
       "    .dataframe tbody tr th {\n",
       "        vertical-align: top;\n",
       "    }\n",
       "\n",
       "    .dataframe thead th {\n",
       "        text-align: right;\n",
       "    }\n",
       "</style>\n",
       "<table border=\"1\" class=\"dataframe\">\n",
       "  <thead>\n",
       "    <tr style=\"text-align: right;\">\n",
       "      <th></th>\n",
       "      <th>Word</th>\n",
       "      <th>Coefficient</th>\n",
       "    </tr>\n",
       "  </thead>\n",
       "  <tbody>\n",
       "    <tr>\n",
       "      <th>4198</th>\n",
       "      <td>hour</td>\n",
       "      <td>-0.685234</td>\n",
       "    </tr>\n",
       "    <tr>\n",
       "      <th>5630</th>\n",
       "      <td>military</td>\n",
       "      <td>-0.701698</td>\n",
       "    </tr>\n",
       "    <tr>\n",
       "      <th>3849</th>\n",
       "      <td>hacking</td>\n",
       "      <td>-0.703571</td>\n",
       "    </tr>\n",
       "    <tr>\n",
       "      <th>9797</th>\n",
       "      <td>without</td>\n",
       "      <td>-0.738987</td>\n",
       "    </tr>\n",
       "    <tr>\n",
       "      <th>2013</th>\n",
       "      <td>criminal</td>\n",
       "      <td>-0.761410</td>\n",
       "    </tr>\n",
       "    <tr>\n",
       "      <th>5255</th>\n",
       "      <td>low</td>\n",
       "      <td>-0.769787</td>\n",
       "    </tr>\n",
       "    <tr>\n",
       "      <th>7746</th>\n",
       "      <td>sanction</td>\n",
       "      <td>-0.794919</td>\n",
       "    </tr>\n",
       "    <tr>\n",
       "      <th>1969</th>\n",
       "      <td>country</td>\n",
       "      <td>-0.797061</td>\n",
       "    </tr>\n",
       "    <tr>\n",
       "      <th>4592</th>\n",
       "      <td>iran</td>\n",
       "      <td>-0.811182</td>\n",
       "    </tr>\n",
       "    <tr>\n",
       "      <th>7666</th>\n",
       "      <td>run</td>\n",
       "      <td>-0.821519</td>\n",
       "    </tr>\n",
       "  </tbody>\n",
       "</table>\n",
       "</div>"
      ],
      "text/plain": [
       "          Word  Coefficient\n",
       "4198      hour    -0.685234\n",
       "5630  military    -0.701698\n",
       "3849   hacking    -0.703571\n",
       "9797   without    -0.738987\n",
       "2013  criminal    -0.761410\n",
       "5255       low    -0.769787\n",
       "7746  sanction    -0.794919\n",
       "1969   country    -0.797061\n",
       "4592      iran    -0.811182\n",
       "7666       run    -0.821519"
      ]
     },
     "execution_count": 21,
     "metadata": {},
     "output_type": "execute_result"
    }
   ],
   "source": [
    "# Display the bottom 10 words with the highest negative coefficients\n",
    "coeffsdf.tail(10)"
   ]
  },
  {
   "cell_type": "markdown",
   "metadata": {},
   "source": [
    "### 3.2 Multinomial Naive Bayes"
   ]
  },
  {
   "cell_type": "code",
   "execution_count": 22,
   "metadata": {},
   "outputs": [],
   "source": [
    "# Perform preprocessing\n",
    "get_text_data = FunctionTransformer(combine_text_columns, validate=False)\n",
    "\n",
    "# Instantiate Pipeline object: pl\n",
    "pl_mulnb = Pipeline([\n",
    "        ('selector', get_text_data),\n",
    "        ('vectorizer', CountVectorizer(analyzer=text_preprocess, ngram_range=(1,2))),\n",
    "        ('tfidf', TfidfTransformer()),\n",
    "        ('dim_red', SelectKBest(chi2, chi_k)),\n",
    "        ('classifier', MultinomialNB())\n",
    "    ])\n",
    "\n",
    "# Fit to the training data\n",
    "pl_mulnb.fit(X_train, y_train)\n",
    "\n",
    "# Predict the labels\n",
    "y_pred = pl_mulnb.predict(X_test)"
   ]
  },
  {
   "cell_type": "code",
   "execution_count": 23,
   "metadata": {},
   "outputs": [
    {
     "name": "stdout",
     "output_type": "stream",
     "text": [
      "Multinomial Naive Bayes \n",
      "\n",
      "              precision    recall  f1-score   support\n",
      "\n",
      "           0       0.00      0.00      0.00       186\n",
      "           1       0.51      1.00      0.67       192\n",
      "\n",
      "    accuracy                           0.51       378\n",
      "   macro avg       0.25      0.50      0.34       378\n",
      "weighted avg       0.26      0.51      0.34       378\n",
      "\n"
     ]
    },
    {
     "data": {
      "image/png": "[encoded data removed]",
      "text/plain": [
       "<Figure size 576x360 with 2 Axes>"
      ]
     },
     "metadata": {},
     "output_type": "display_data"
    },
    {
     "name": "stdout",
     "output_type": "stream",
     "text": [
      "ROC-AUC score: 0.50\n"
     ]
    }
   ],
   "source": [
    "Evaluation('Multinomial Naive Bayes', X_test, y_test, y_pred)"
   ]
  },
  {
   "cell_type": "code",
   "execution_count": 24,
   "metadata": {},
   "outputs": [
    {
     "data": {
      "image/png": "[encoded data removed]",
      "text/plain": [
       "<Figure size 576x360 with 1 Axes>"
      ]
     },
     "metadata": {},
     "output_type": "display_data"
    }
   ],
   "source": [
    "# Plot the ROC curve\n",
    "ROCCurve(y_test, y_pred)"
   ]
  },
  {
   "cell_type": "markdown",
   "metadata": {},
   "source": [
    "### 3.3 Random Forest Classifier"
   ]
  },
  {
   "cell_type": "code",
   "execution_count": 25,
   "metadata": {},
   "outputs": [],
   "source": [
    "# Perform preprocessing\n",
    "get_text_data = FunctionTransformer(combine_text_columns, validate=False)\n",
    "\n",
    "# Instantiate Pipeline object: pl\n",
    "pl_rfc = Pipeline([\n",
    "        ('selector', get_text_data),\n",
    "        ('vectorizer', CountVectorizer(analyzer=text_preprocess, ngram_range=(1,2))),\n",
    "        ('tfidf', TfidfTransformer()),\n",
    "        ('dim_red', SelectKBest(chi2, chi_k)),\n",
    "        ('classifier', RandomForestClassifier())\n",
    "    ])\n",
    "\n",
    "# Fit to the training data\n",
    "pl_rfc.fit(X_train, y_train)\n",
    "\n",
    "# Predict the labels\n",
    "y_pred = pl_rfc.predict(X_test)"
   ]
  },
  {
   "cell_type": "code",
   "execution_count": 26,
   "metadata": {},
   "outputs": [
    {
     "name": "stdout",
     "output_type": "stream",
     "text": [
      "Random Forest Classifier \n",
      "\n",
      "              precision    recall  f1-score   support\n",
      "\n",
      "           0       0.44      0.19      0.26       186\n",
      "           1       0.49      0.77      0.60       192\n",
      "\n",
      "    accuracy                           0.48       378\n",
      "   macro avg       0.47      0.48      0.43       378\n",
      "weighted avg       0.47      0.48      0.44       378\n",
      "\n"
     ]
    },
    {
     "data": {
      "image/png": "[encoded data removed]",
      "text/plain": [
       "<Figure size 576x360 with 2 Axes>"
      ]
     },
     "metadata": {},
     "output_type": "display_data"
    },
    {
     "name": "stdout",
     "output_type": "stream",
     "text": [
      "ROC-AUC score: 0.48\n"
     ]
    }
   ],
   "source": [
    "Evaluation('Random Forest Classifier', X_test, y_test, y_pred)"
   ]
  },
  {
   "cell_type": "code",
   "execution_count": 27,
   "metadata": {},
   "outputs": [
    {
     "data": {
      "image/png": "[encoded data removed]",
      "text/plain": [
       "<Figure size 576x360 with 1 Axes>"
      ]
     },
     "metadata": {},
     "output_type": "display_data"
    }
   ],
   "source": [
    "# Plot the ROC curve\n",
    "ROCCurve(y_test, y_pred)"
   ]
  },
  {
   "cell_type": "markdown",
   "metadata": {},
   "source": [
    "### 3.4 Support Vector Machine Classifier (SVC)"
   ]
  },
  {
   "cell_type": "code",
   "execution_count": 28,
   "metadata": {},
   "outputs": [],
   "source": [
    "# Perform preprocessing\n",
    "get_text_data = FunctionTransformer(combine_text_columns, validate=False)\n",
    "\n",
    "# Instantiate Pipeline object: pl\n",
    "pl_svc = Pipeline([\n",
    "        ('selector', get_text_data),\n",
    "        ('vectorizer', CountVectorizer(analyzer=text_preprocess, ngram_range=(1,2))),\n",
    "        ('tfidf', TfidfTransformer()),\n",
    "        ('dim_red', SelectKBest(chi2, chi_k)),\n",
    "        ('classifier', SVC())\n",
    "    ])\n",
    "\n",
    "# Fit to the training data\n",
    "pl_svc.fit(X_train, y_train)\n",
    "\n",
    "# Predict the labels\n",
    "y_pred = pl_svc.predict(X_test)"
   ]
  },
  {
   "cell_type": "code",
   "execution_count": 29,
   "metadata": {},
   "outputs": [
    {
     "name": "stdout",
     "output_type": "stream",
     "text": [
      "SVM Classifier \n",
      "\n",
      "              precision    recall  f1-score   support\n",
      "\n",
      "           0       0.55      0.30      0.39       186\n",
      "           1       0.53      0.77      0.63       192\n",
      "\n",
      "    accuracy                           0.54       378\n",
      "   macro avg       0.54      0.53      0.51       378\n",
      "weighted avg       0.54      0.54      0.51       378\n",
      "\n"
     ]
    },
    {
     "data": {
      "image/png": "[encoded data removed]",
      "text/plain": [
       "<Figure size 576x360 with 2 Axes>"
      ]
     },
     "metadata": {},
     "output_type": "display_data"
    },
    {
     "name": "stdout",
     "output_type": "stream",
     "text": [
      "ROC-AUC score: 0.53\n"
     ]
    }
   ],
   "source": [
    "Evaluation('SVM Classifier', X_test, y_test, y_pred)"
   ]
  },
  {
   "cell_type": "code",
   "execution_count": 30,
   "metadata": {},
   "outputs": [
    {
     "data": {
      "image/png": "[encoded data removed]",
      "text/plain": [
       "<Figure size 576x360 with 1 Axes>"
      ]
     },
     "metadata": {},
     "output_type": "display_data"
    }
   ],
   "source": [
    "# Plot the ROC curve\n",
    "ROCCurve(y_test, y_pred)"
   ]
  },
  {
   "cell_type": "markdown",
   "metadata": {},
   "source": [
    "### 3.5 XGBoost Classifier"
   ]
  },
  {
   "cell_type": "code",
   "execution_count": 31,
   "metadata": {},
   "outputs": [],
   "source": [
    "# Perform preprocessing\n",
    "get_text_data = FunctionTransformer(combine_text_columns, validate=False)\n",
    "\n",
    "# Instantiate Pipeline object\n",
    "pl_xgb = Pipeline([\n",
    "        ('selector', get_text_data),\n",
    "        ('vectorizer', CountVectorizer(analyzer=text_preprocess, ngram_range=(1,2))),\n",
    "        ('tfidf', TfidfTransformer()),\n",
    "        ('dim_red', SelectKBest(chi2, chi_k)),\n",
    "        ('classifier', XGBClassifier())\n",
    "    ])\n",
    "\n",
    "# Fit to the training data\n",
    "pl_xgb.fit(X_train, y_train)\n",
    "\n",
    "# Predict the labels\n",
    "y_pred = pl_xgb.predict(X_test)"
   ]
  },
  {
   "cell_type": "code",
   "execution_count": 32,
   "metadata": {},
   "outputs": [
    {
     "name": "stdout",
     "output_type": "stream",
     "text": [
      "XGBoost \n",
      "\n",
      "              precision    recall  f1-score   support\n",
      "\n",
      "           0       0.50      0.36      0.42       186\n",
      "           1       0.51      0.66      0.58       192\n",
      "\n",
      "    accuracy                           0.51       378\n",
      "   macro avg       0.51      0.51      0.50       378\n",
      "weighted avg       0.51      0.51      0.50       378\n",
      "\n"
     ]
    },
    {
     "data": {
      "image/png": "[encoded data removed]",
      "text/plain": [
       "<Figure size 576x360 with 2 Axes>"
      ]
     },
     "metadata": {},
     "output_type": "display_data"
    },
    {
     "name": "stdout",
     "output_type": "stream",
     "text": [
      "ROC-AUC score: 0.51\n"
     ]
    }
   ],
   "source": [
    "Evaluation('XGBoost', X_test, y_test, y_pred)"
   ]
  },
  {
   "cell_type": "code",
   "execution_count": 33,
   "metadata": {},
   "outputs": [
    {
     "data": {
      "image/png": "[encoded data removed]",
      "text/plain": [
       "<Figure size 576x360 with 1 Axes>"
      ]
     },
     "metadata": {},
     "output_type": "display_data"
    }
   ],
   "source": [
    "# Plot the ROC curve\n",
    "ROCCurve(y_test, y_pred)"
   ]
  },
  {
   "cell_type": "markdown",
   "metadata": {},
   "source": [
    "### 3.6 Bernouilli Naive Bayes"
   ]
  },
  {
   "cell_type": "code",
   "execution_count": 34,
   "metadata": {},
   "outputs": [],
   "source": [
    "# Perform preprocessing\n",
    "get_text_data = FunctionTransformer(combine_text_columns, validate=False)\n",
    "\n",
    "# Instantiate Pipeline object\n",
    "pl_bnb = Pipeline([\n",
    "        ('selector', get_text_data),\n",
    "        ('vectorizer', CountVectorizer(analyzer=text_preprocess, ngram_range=(1,2))),\n",
    "        ('tfidf', TfidfTransformer()),\n",
    "        ('dim_red', SelectKBest(chi2, chi_k)),\n",
    "        ('classifier', BernoulliNB())\n",
    "    ])\n",
    "\n",
    "# Fit to the training data\n",
    "pl_bnb.fit(X_train, y_train)\n",
    "\n",
    "# Predict the labels\n",
    "y_pred = pl_bnb.predict(X_test)"
   ]
  },
  {
   "cell_type": "code",
   "execution_count": 35,
   "metadata": {},
   "outputs": [
    {
     "name": "stdout",
     "output_type": "stream",
     "text": [
      "BernoulliNB \n",
      "\n",
      "              precision    recall  f1-score   support\n",
      "\n",
      "           0       0.46      0.06      0.11       186\n",
      "           1       0.51      0.93      0.65       192\n",
      "\n",
      "    accuracy                           0.50       378\n",
      "   macro avg       0.48      0.50      0.38       378\n",
      "weighted avg       0.48      0.50      0.39       378\n",
      "\n"
     ]
    },
    {
     "data": {
      "image/png": "[encoded data removed]",
      "text/plain": [
       "<Figure size 576x360 with 2 Axes>"
      ]
     },
     "metadata": {},
     "output_type": "display_data"
    },
    {
     "name": "stdout",
     "output_type": "stream",
     "text": [
      "ROC-AUC score: 0.50\n"
     ]
    }
   ],
   "source": [
    "Evaluation('BernoulliNB', X_test, y_test, y_pred)"
   ]
  },
  {
   "cell_type": "code",
   "execution_count": 36,
   "metadata": {},
   "outputs": [
    {
     "data": {
      "image/png": "[encoded data removed]",
      "text/plain": [
       "<Figure size 576x360 with 1 Axes>"
      ]
     },
     "metadata": {},
     "output_type": "display_data"
    }
   ],
   "source": [
    "# Plot the ROC curve\n",
    "ROCCurve(y_test, y_pred)"
   ]
  },
  {
   "cell_type": "markdown",
   "metadata": {},
   "source": [
    "### 3.7 Deep Learning"
   ]
  },
  {
   "cell_type": "markdown",
   "metadata": {},
   "source": [
    "The following model architectures of deep learning have been used to predict the DJIA stock movements:\n",
    "1. Multilayer Perceptron (MLP)\n",
    "2. Recurrent Nueral Network (RNN) - LSTM\n",
    "3. Convolutional Neural Network (CNN)"
   ]
  },
  {
   "cell_type": "markdown",
   "metadata": {},
   "source": [
    "Set random seed to achieve reproducibility."
   ]
  },
  {
   "cell_type": "code",
   "execution_count": 37,
   "metadata": {},
   "outputs": [],
   "source": [
    "# Set a seed value\n",
    "seed_value = 0\n",
    "\n",
    "# Set `PYTHONHASHSEED` environment variable at a fixed value\n",
    "os.environ['PYTHONHASHSEED'] = str(seed_value)\n",
    "\n",
    "# Set `python` built-in pseudo-random generator at a fixed value\n",
    "random.seed(seed_value)\n",
    "seed(seed_value)\n",
    "\n",
    "# Set `tensorflow` pseudo-random generator at a fixed value\n",
    "tf.random.set_seed(seed_value)"
   ]
  },
  {
   "cell_type": "markdown",
   "metadata": {},
   "source": [
    "Before starting building our very first deep learning model, we need to convert all the text data in each row of our dataframe to a collection of documents - single vector."
   ]
  },
  {
   "cell_type": "code",
   "execution_count": 38,
   "metadata": {},
   "outputs": [],
   "source": [
    "# Converts all text in each row of train and test sets to single vectors\n",
    "X_train_combined = combine_text_columns(X_train)\n",
    "X_test_combined = combine_text_columns(X_test)"
   ]
  },
  {
   "cell_type": "markdown",
   "metadata": {},
   "source": [
    "### 3.7.1 Multilayer Perceptron (MLP)"
   ]
  },
  {
   "cell_type": "markdown",
   "metadata": {},
   "source": [
    "Since it is a text data, we need to convert it to a matrix. Hence, we use TfidfVectorizer() from the Scikit-learn library."
   ]
  },
  {
   "cell_type": "code",
   "execution_count": 39,
   "metadata": {},
   "outputs": [
    {
     "name": "stdout",
     "output_type": "stream",
     "text": [
      "The shape of train dataset after TfidfVectorizer() -->  (1611, 3192)\n",
      "The shape of test dataset after TfidfVectorizer() -->  (378, 3192)\n"
     ]
    }
   ],
   "source": [
    "# Initialize a TfidfVectorizer object\n",
    "tfidf_vectorizer = TfidfVectorizer(lowercase=True, min_df =0.01, max_df = 0.7, ngram_range = (2, 2))\n",
    "\n",
    "# Fit and transform the training data\n",
    "tfidf_train = tfidf_vectorizer.fit_transform(X_train_combined)\n",
    "\n",
    "# Transform the test data \n",
    "tfidf_test = tfidf_vectorizer.transform(X_test_combined)\n",
    "\n",
    "print('The shape of train dataset after TfidfVectorizer() --> ', tfidf_train.shape)\n",
    "print('The shape of test dataset after TfidfVectorizer() --> ', tfidf_test.shape)"
   ]
  },
  {
   "cell_type": "code",
   "execution_count": 40,
   "metadata": {},
   "outputs": [],
   "source": [
    "# The target feature has two classes of 0 and 1\n",
    "nb_classes = 2\n",
    "\n",
    "# Prepare the data as NumPy matrix\n",
    "X_train = tfidf_train.toarray()\n",
    "X_test = tfidf_test.toarray()\n",
    "\n",
    "y_train = to_categorical(y_train, nb_classes)   # Alternatively, y_train.values should also work if it is numeric type\n",
    "y_test = to_categorical(y_test, nb_classes)"
   ]
  },
  {
   "cell_type": "markdown",
   "metadata": {},
   "source": [
    "Standardization can drastically improve the performance of models. Hence, we use MaxAbsScaler() to scale our data to a [-1,1] range based on absolute maximum. This scaler is appropriate for sparse data. "
   ]
  },
  {
   "cell_type": "code",
   "execution_count": 41,
   "metadata": {},
   "outputs": [],
   "source": [
    "# Initialize a scaler and fit_transform the data\n",
    "scaler = MaxAbsScaler()\n",
    "X_train = scaler.fit_transform(X_train)\n",
    "X_test = scaler.transform(X_test)"
   ]
  },
  {
   "cell_type": "code",
   "execution_count": 42,
   "metadata": {},
   "outputs": [],
   "source": [
    "# Save the number of columns in predictors\n",
    "n_cols = X_train.shape[1]"
   ]
  },
  {
   "cell_type": "code",
   "execution_count": 43,
   "metadata": {},
   "outputs": [
    {
     "name": "stdout",
     "output_type": "stream",
     "text": [
      "Train on 1611 samples, validate on 378 samples\n",
      "Epoch 1/10\n",
      "1611/1611 [==============================] - 1s 438us/step - loss: 0.6975 - accuracy: 0.5227 - val_loss: 0.6929 - val_accuracy: 0.5106\n",
      "Epoch 2/10\n",
      "1611/1611 [==============================] - 0s 294us/step - loss: 0.4818 - accuracy: 0.8194 - val_loss: 0.7846 - val_accuracy: 0.5053\n",
      "Epoch 3/10\n",
      "1611/1611 [==============================] - 0s 301us/step - loss: 0.1276 - accuracy: 0.9708 - val_loss: 1.2508 - val_accuracy: 0.5238\n",
      "Epoch 4/10\n",
      "1611/1611 [==============================] - 1s 313us/step - loss: 0.0126 - accuracy: 0.9988 - val_loss: 1.7660 - val_accuracy: 0.5212\n",
      "Epoch 5/10\n",
      "1611/1611 [==============================] - 0s 310us/step - loss: 0.0011 - accuracy: 1.0000 - val_loss: 2.3239 - val_accuracy: 0.5291\n",
      "Epoch 6/10\n",
      "1611/1611 [==============================] - 0s 298us/step - loss: 1.3206e-04 - accuracy: 1.0000 - val_loss: 2.8899 - val_accuracy: 0.5344\n",
      "Epoch 7/10\n",
      "1611/1611 [==============================] - 0s 306us/step - loss: 3.6557e-05 - accuracy: 1.0000 - val_loss: 3.3359 - val_accuracy: 0.5265\n",
      "Epoch 8/10\n",
      "1611/1611 [==============================] - 0s 301us/step - loss: 5.1061e-06 - accuracy: 1.0000 - val_loss: 3.6238 - val_accuracy: 0.5026\n",
      "Epoch 9/10\n",
      "1611/1611 [==============================] - 0s 301us/step - loss: 1.2656e-06 - accuracy: 1.0000 - val_loss: 3.9630 - val_accuracy: 0.5159\n",
      "Epoch 10/10\n",
      "1611/1611 [==============================] - 0s 301us/step - loss: 4.4537e-07 - accuracy: 1.0000 - val_loss: 4.1993 - val_accuracy: 0.5159\n"
     ]
    },
    {
     "data": {
      "text/plain": [
       "<keras.callbacks.callbacks.History at 0x1daff09aa08>"
      ]
     },
     "execution_count": 43,
     "metadata": {},
     "output_type": "execute_result"
    }
   ],
   "source": [
    "# Set up the model\n",
    "model = Sequential()\n",
    "\n",
    "# Add the first layer\n",
    "model.add(Dense(256, activation='relu', input_shape=(n_cols,)))\n",
    "model.add(Dropout(0.2, seed=seed_value))\n",
    "\n",
    "# Add the second layer\n",
    "model.add(Dense(128, activation='relu'))\n",
    "model.add(Dropout(0.2, seed=seed_value))\n",
    "\n",
    "# Add the output layer\n",
    "model.add(Dense(2, activation='softmax'))\n",
    "\n",
    "# Compile the model\n",
    "model.compile(optimizer='rmsprop', \n",
    "              loss='categorical_crossentropy', \n",
    "              metrics=['accuracy'])\n",
    "\n",
    "# Fit the model\n",
    "model.fit(X_train, y_train, epochs=10, batch_size=32, validation_data=(X_test, y_test), validation_split=0.15, verbose=1)"
   ]
  },
  {
   "cell_type": "code",
   "execution_count": 44,
   "metadata": {},
   "outputs": [
    {
     "name": "stdout",
     "output_type": "stream",
     "text": [
      "378/378 [==============================] - 0s 56us/step\n",
      "Test accuracy: 0.5158730149269104\n"
     ]
    }
   ],
   "source": [
    "# Evaluate the model\n",
    "score = model.evaluate(X_test, y_test, batch_size=32)\n",
    "print('Test accuracy:', score[1])"
   ]
  },
  {
   "cell_type": "code",
   "execution_count": 45,
   "metadata": {},
   "outputs": [],
   "source": [
    "y_pred = model.predict_classes(X_test)"
   ]
  },
  {
   "cell_type": "code",
   "execution_count": 46,
   "metadata": {},
   "outputs": [
    {
     "data": {
      "text/plain": [
       "array([0, 0, 1, 1, 1], dtype=int64)"
      ]
     },
     "execution_count": 46,
     "metadata": {},
     "output_type": "execute_result"
    }
   ],
   "source": [
    "y_pred[:5]"
   ]
  },
  {
   "cell_type": "code",
   "execution_count": 47,
   "metadata": {},
   "outputs": [
    {
     "name": "stdout",
     "output_type": "stream",
     "text": [
      "MLP \n",
      "\n",
      "              precision    recall  f1-score   support\n",
      "\n",
      "           0       0.51      0.44      0.47       186\n",
      "           1       0.52      0.59      0.55       192\n",
      "\n",
      "    accuracy                           0.52       378\n",
      "   macro avg       0.52      0.51      0.51       378\n",
      "weighted avg       0.52      0.52      0.51       378\n",
      "\n"
     ]
    },
    {
     "data": {
      "image/png": "[encoded data removed]",
      "text/plain": [
       "<Figure size 576x360 with 2 Axes>"
      ]
     },
     "metadata": {},
     "output_type": "display_data"
    },
    {
     "name": "stdout",
     "output_type": "stream",
     "text": [
      "ROC-AUC score: 0.51\n"
     ]
    }
   ],
   "source": [
    "Evaluation('MLP', X_test, y_test.argmax(1), y_pred)"
   ]
  },
  {
   "cell_type": "code",
   "execution_count": 48,
   "metadata": {},
   "outputs": [
    {
     "data": {
      "image/png": "[encoded data removed]",
      "text/plain": [
       "<Figure size 576x360 with 1 Axes>"
      ]
     },
     "metadata": {},
     "output_type": "display_data"
    }
   ],
   "source": [
    "# Plot the ROC curve\n",
    "ROCCurve(y_test.argmax(1), y_pred)"
   ]
  },
  {
   "cell_type": "markdown",
   "metadata": {},
   "source": [
    "### 3.7.2 Recurrent Nueral Network (RNN) - LSTM"
   ]
  },
  {
   "cell_type": "code",
   "execution_count": 49,
   "metadata": {},
   "outputs": [],
   "source": [
    "max_features = 20000\n",
    "EMBEDDING_DIM = 100\n",
    "VALIDATION_SPLIT = 0.1\n",
    "maxlen = 200\n",
    "batch_size = 32"
   ]
  },
  {
   "cell_type": "markdown",
   "metadata": {},
   "source": [
    "We could use `TfidfVectorizer()` here to vectorize the text data, rather we use `Tokenizer()` from the `Keras API`. It is basically another way of vectorizing text data. "
   ]
  },
  {
   "cell_type": "code",
   "execution_count": 50,
   "metadata": {},
   "outputs": [],
   "source": [
    "# Vectorize the text data\n",
    "tokenizer = Tokenizer(num_words=max_features)\n",
    "tokenizer.fit_on_texts(X_train_combined)\n",
    "X_train = tokenizer.texts_to_sequences(X_train_combined)\n",
    "X_test = tokenizer.texts_to_sequences(X_test_combined)"
   ]
  },
  {
   "cell_type": "markdown",
   "metadata": {},
   "source": [
    "Next, we use Keras' `pad_sequences()` function to ensure that all sequences have the same length as the longest sequence."
   ]
  },
  {
   "cell_type": "code",
   "execution_count": 51,
   "metadata": {},
   "outputs": [
    {
     "name": "stdout",
     "output_type": "stream",
     "text": [
      "X_train shape: (1611, 200)\n",
      "X_test shape: (378, 200)\n"
     ]
    }
   ],
   "source": [
    "# Sequence padding\n",
    "X_train = sequence.pad_sequences(X_train, maxlen=200)\n",
    "X_test = sequence.pad_sequences(X_test, maxlen=200)\n",
    "\n",
    "# Y_train = to_categorical(y_train, nb_classes)\n",
    "# Y_test = to_categorical(y_test, nb_classes)\n",
    "\n",
    "\n",
    "print('X_train shape:', X_train.shape)\n",
    "print('X_test shape:', X_test.shape)"
   ]
  },
  {
   "cell_type": "code",
   "execution_count": 52,
   "metadata": {},
   "outputs": [
    {
     "name": "stdout",
     "output_type": "stream",
     "text": [
      "Train on 1611 samples, validate on 378 samples\n",
      "Epoch 1/10\n",
      "1611/1611 [==============================] - 10s 6ms/step - loss: 0.6913 - accuracy: 0.5282 - val_loss: 0.6948 - val_accuracy: 0.5079\n",
      "Epoch 2/10\n",
      "1611/1611 [==============================] - 10s 6ms/step - loss: 0.6753 - accuracy: 0.6598 - val_loss: 0.6890 - val_accuracy: 0.5556\n",
      "Epoch 3/10\n",
      "1611/1611 [==============================] - 10s 6ms/step - loss: 0.3455 - accuracy: 0.9100 - val_loss: 0.8796 - val_accuracy: 0.5370\n",
      "Epoch 4/10\n",
      "1611/1611 [==============================] - 10s 6ms/step - loss: 0.0820 - accuracy: 0.9795 - val_loss: 0.9749 - val_accuracy: 0.5503\n",
      "Epoch 5/10\n",
      "1611/1611 [==============================] - 10s 6ms/step - loss: 0.0172 - accuracy: 0.9981 - val_loss: 1.2137 - val_accuracy: 0.5767\n",
      "Epoch 6/10\n",
      "1611/1611 [==============================] - 10s 6ms/step - loss: 0.0072 - accuracy: 0.9994 - val_loss: 1.3119 - val_accuracy: 0.5714\n",
      "Epoch 7/10\n",
      "1611/1611 [==============================] - 10s 6ms/step - loss: 0.0038 - accuracy: 1.0000 - val_loss: 1.4385 - val_accuracy: 0.5794\n",
      "Epoch 8/10\n",
      "1611/1611 [==============================] - 10s 6ms/step - loss: 0.0044 - accuracy: 0.9994 - val_loss: 1.2925 - val_accuracy: 0.5873\n",
      "Epoch 9/10\n",
      "1611/1611 [==============================] - 10s 6ms/step - loss: 0.0033 - accuracy: 1.0000 - val_loss: 1.4164 - val_accuracy: 0.5714\n",
      "Epoch 10/10\n",
      "1611/1611 [==============================] - 10s 6ms/step - loss: 0.0036 - accuracy: 0.9988 - val_loss: 1.4502 - val_accuracy: 0.5820\n"
     ]
    },
    {
     "data": {
      "text/plain": [
       "<keras.callbacks.callbacks.History at 0x1dafc052bc8>"
      ]
     },
     "execution_count": 52,
     "metadata": {},
     "output_type": "execute_result"
    }
   ],
   "source": [
    "# Set up the model\n",
    "model = Sequential()\n",
    "\n",
    "model.add(Embedding(max_features, 128, dropout=0.2))\n",
    "model.add(LSTM(128, dropout=0.2, recurrent_dropout=0.2)) \n",
    "\n",
    "# Add the output layer\n",
    "model.add(Dense(2, activation='softmax'))\n",
    "\n",
    "# Compile the model\n",
    "model.compile(loss='binary_crossentropy',\n",
    "              optimizer='adam',\n",
    "              metrics=['accuracy'])\n",
    "\n",
    "# Fit the model\n",
    "model.fit(X_train, y_train, batch_size=batch_size, epochs=10, validation_data=(X_test, y_test))"
   ]
  },
  {
   "cell_type": "code",
   "execution_count": 53,
   "metadata": {},
   "outputs": [
    {
     "name": "stdout",
     "output_type": "stream",
     "text": [
      "Test accuracy: 0.5820105671882629\n"
     ]
    }
   ],
   "source": [
    "# Evaluate the model\n",
    "score= model.evaluate(X_test, y_test, batch_size=batch_size, verbose=0)\n",
    "print('Test accuracy:', score[1])"
   ]
  },
  {
   "cell_type": "code",
   "execution_count": 54,
   "metadata": {},
   "outputs": [],
   "source": [
    "y_pred = model.predict_classes(X_test)"
   ]
  },
  {
   "cell_type": "code",
   "execution_count": 55,
   "metadata": {},
   "outputs": [
    {
     "name": "stdout",
     "output_type": "stream",
     "text": [
      "LSTM \n",
      "\n",
      "              precision    recall  f1-score   support\n",
      "\n",
      "           0       0.57      0.58      0.58       186\n",
      "           1       0.59      0.58      0.59       192\n",
      "\n",
      "    accuracy                           0.58       378\n",
      "   macro avg       0.58      0.58      0.58       378\n",
      "weighted avg       0.58      0.58      0.58       378\n",
      "\n"
     ]
    },
    {
     "data": {
      "image/png": "[encoded data removed]",
      "text/plain": [
       "<Figure size 576x360 with 2 Axes>"
      ]
     },
     "metadata": {},
     "output_type": "display_data"
    },
    {
     "name": "stdout",
     "output_type": "stream",
     "text": [
      "ROC-AUC score: 0.58\n"
     ]
    }
   ],
   "source": [
    "Evaluation('LSTM', X_test, y_test.argmax(1), y_pred)"
   ]
  },
  {
   "cell_type": "code",
   "execution_count": 56,
   "metadata": {},
   "outputs": [
    {
     "data": {
      "image/png": "[encoded data removed]",
      "text/plain": [
       "<Figure size 576x360 with 1 Axes>"
      ]
     },
     "metadata": {},
     "output_type": "display_data"
    }
   ],
   "source": [
    "# Plot the ROC curve\n",
    "ROCCurve(y_test.argmax(1), y_pred)"
   ]
  },
  {
   "cell_type": "markdown",
   "metadata": {},
   "source": [
    "### 3.7.3 Convolutional Neural Network (CNN)"
   ]
  },
  {
   "cell_type": "code",
   "execution_count": 57,
   "metadata": {},
   "outputs": [
    {
     "name": "stdout",
     "output_type": "stream",
     "text": [
      "Train on 1611 samples, validate on 378 samples\n",
      "Epoch 1/10\n",
      "1611/1611 [==============================] - 3s 2ms/step - loss: 0.6933 - accuracy: 0.5379 - val_loss: 0.6940 - val_accuracy: 0.5079\n",
      "Epoch 2/10\n",
      "1611/1611 [==============================] - 3s 2ms/step - loss: 0.6729 - accuracy: 0.5506 - val_loss: 0.6959 - val_accuracy: 0.5066\n",
      "Epoch 3/10\n",
      "1611/1611 [==============================] - 3s 2ms/step - loss: 0.5600 - accuracy: 0.8318 - val_loss: 0.7386 - val_accuracy: 0.5317\n",
      "Epoch 4/10\n",
      "1611/1611 [==============================] - 3s 2ms/step - loss: 0.1653 - accuracy: 0.9901 - val_loss: 0.9439 - val_accuracy: 0.5291\n",
      "Epoch 5/10\n",
      "1611/1611 [==============================] - 3s 2ms/step - loss: 0.0116 - accuracy: 1.0000 - val_loss: 0.9638 - val_accuracy: 0.4881\n",
      "Epoch 6/10\n",
      "1611/1611 [==============================] - 3s 2ms/step - loss: 0.0034 - accuracy: 1.0000 - val_loss: 1.0401 - val_accuracy: 0.5013\n",
      "Epoch 7/10\n",
      "1611/1611 [==============================] - 3s 2ms/step - loss: 0.0019 - accuracy: 1.0000 - val_loss: 1.0755 - val_accuracy: 0.5013\n",
      "Epoch 8/10\n",
      "1611/1611 [==============================] - 3s 2ms/step - loss: 0.0012 - accuracy: 1.0000 - val_loss: 1.1130 - val_accuracy: 0.5053\n",
      "Epoch 9/10\n",
      "1611/1611 [==============================] - 3s 2ms/step - loss: 8.6632e-04 - accuracy: 1.0000 - val_loss: 1.1368 - val_accuracy: 0.5000\n",
      "Epoch 10/10\n",
      "1611/1611 [==============================] - 3s 2ms/step - loss: 6.3409e-04 - accuracy: 1.0000 - val_loss: 1.1490 - val_accuracy: 0.5000\n"
     ]
    },
    {
     "data": {
      "text/plain": [
       "<keras.callbacks.callbacks.History at 0x1da85eaf188>"
      ]
     },
     "execution_count": 57,
     "metadata": {},
     "output_type": "execute_result"
    }
   ],
   "source": [
    "# Set up the model\n",
    "model = Sequential()\n",
    "\n",
    "model.add(Embedding(max_features, 128, dropout=0.2))\n",
    "# we add a Convolution1D, which will learn nb_filter\n",
    "# word group filters of size filter_length:\n",
    "model.add(Convolution1D(filters=120,\n",
    "                        filter_length=2,\n",
    "                        border_mode='valid',\n",
    "                        activation='relu',\n",
    "                        subsample_length=1))\n",
    "\n",
    "def max_1d(X):\n",
    "    return K.max(X, axis=1)\n",
    "\n",
    "model.add(Lambda(max_1d, output_shape=(120,)))\n",
    "model.add(Dense(120, activation='relu')) \n",
    "model.add(Dropout(0.2, seed=seed_value))\n",
    "\n",
    "# Add the output layer\n",
    "model.add(Dense(2, activation='sigmoid'))\n",
    "\n",
    "# Compile the model\n",
    "model.compile(loss='binary_crossentropy',\n",
    "              optimizer='adam',\n",
    "              metrics=['accuracy'])\n",
    "\n",
    "# Fit the model\n",
    "model.fit(X_train, y_train, batch_size=32, epochs=10, validation_data=(X_test, y_test))"
   ]
  },
  {
   "cell_type": "code",
   "execution_count": 58,
   "metadata": {},
   "outputs": [
    {
     "name": "stdout",
     "output_type": "stream",
     "text": [
      "Test accuracy: 0.5\n"
     ]
    }
   ],
   "source": [
    "# Evaluate the model\n",
    "score= model.evaluate(X_test, y_test, batch_size=batch_size, verbose=0)\n",
    "print('Test accuracy:', score[1])"
   ]
  },
  {
   "cell_type": "code",
   "execution_count": 59,
   "metadata": {},
   "outputs": [],
   "source": [
    "y_pred = model.predict_classes(X_test)"
   ]
  },
  {
   "cell_type": "code",
   "execution_count": 60,
   "metadata": {},
   "outputs": [
    {
     "name": "stdout",
     "output_type": "stream",
     "text": [
      "CNN \n",
      "\n",
      "              precision    recall  f1-score   support\n",
      "\n",
      "           0       0.48      0.33      0.39       186\n",
      "           1       0.50      0.66      0.57       192\n",
      "\n",
      "    accuracy                           0.50       378\n",
      "   macro avg       0.49      0.49      0.48       378\n",
      "weighted avg       0.49      0.50      0.48       378\n",
      "\n"
     ]
    },
    {
     "data": {
      "image/png": "[encoded data removed]",
      "text/plain": [
       "<Figure size 576x360 with 2 Axes>"
      ]
     },
     "metadata": {},
     "output_type": "display_data"
    },
    {
     "name": "stdout",
     "output_type": "stream",
     "text": [
      "ROC-AUC score: 0.49\n"
     ]
    }
   ],
   "source": [
    "Evaluation('CNN', X_test, y_test.argmax(1), y_pred)"
   ]
  },
  {
   "cell_type": "code",
   "execution_count": 61,
   "metadata": {},
   "outputs": [
    {
     "data": {
      "image/png": "[encoded data removed]",
      "text/plain": [
       "<Figure size 576x360 with 1 Axes>"
      ]
     },
     "metadata": {},
     "output_type": "display_data"
    }
   ],
   "source": [
    "# Plot the ROC curve\n",
    "ROCCurve(y_test.argmax(1), y_pred)"
   ]
  },
  {
   "cell_type": "markdown",
   "metadata": {},
   "source": [
    "<a href=\"#Table-of-Contents\">Back to Top</a> <br>"
   ]
  },
  {
   "cell_type": "markdown",
   "metadata": {},
   "source": [
    "**************"
   ]
  },
  {
   "cell_type": "markdown",
   "metadata": {},
   "source": [
    "# 4. Model Tuning"
   ]
  },
  {
   "cell_type": "markdown",
   "metadata": {},
   "source": [
    "Now, we are done with the model building part and ready to perform tuning on the models with the highest AUC score. "
   ]
  },
  {
   "cell_type": "code",
   "execution_count": 62,
   "metadata": {},
   "outputs": [
    {
     "data": {
      "text/html": [
       "<div>\n",
       "<style scoped>\n",
       "    .dataframe tbody tr th:only-of-type {\n",
       "        vertical-align: middle;\n",
       "    }\n",
       "\n",
       "    .dataframe tbody tr th {\n",
       "        vertical-align: top;\n",
       "    }\n",
       "\n",
       "    .dataframe thead th {\n",
       "        text-align: right;\n",
       "    }\n",
       "</style>\n",
       "<table border=\"1\" class=\"dataframe\">\n",
       "  <thead>\n",
       "    <tr style=\"text-align: right;\">\n",
       "      <th></th>\n",
       "      <th>Accuracy</th>\n",
       "      <th>ROC_AUC</th>\n",
       "      <th>Precision</th>\n",
       "      <th>Recall</th>\n",
       "      <th>F1</th>\n",
       "    </tr>\n",
       "    <tr>\n",
       "      <th>Model</th>\n",
       "      <th></th>\n",
       "      <th></th>\n",
       "      <th></th>\n",
       "      <th></th>\n",
       "      <th></th>\n",
       "    </tr>\n",
       "  </thead>\n",
       "  <tbody>\n",
       "    <tr>\n",
       "      <th>LSTM</th>\n",
       "      <td>0.582011</td>\n",
       "      <td>0.581989</td>\n",
       "      <td>0.589474</td>\n",
       "      <td>0.583333</td>\n",
       "      <td>0.586387</td>\n",
       "    </tr>\n",
       "    <tr>\n",
       "      <th>SVM Classifier</th>\n",
       "      <td>0.537037</td>\n",
       "      <td>0.533350</td>\n",
       "      <td>0.530686</td>\n",
       "      <td>0.765625</td>\n",
       "      <td>0.626866</td>\n",
       "    </tr>\n",
       "    <tr>\n",
       "      <th>MLP</th>\n",
       "      <td>0.515873</td>\n",
       "      <td>0.514701</td>\n",
       "      <td>0.520737</td>\n",
       "      <td>0.588542</td>\n",
       "      <td>0.552567</td>\n",
       "    </tr>\n",
       "    <tr>\n",
       "      <th>Logistic Regression</th>\n",
       "      <td>0.515873</td>\n",
       "      <td>0.509241</td>\n",
       "      <td>0.512968</td>\n",
       "      <td>0.927083</td>\n",
       "      <td>0.660482</td>\n",
       "    </tr>\n",
       "    <tr>\n",
       "      <th>XGBoost</th>\n",
       "      <td>0.510582</td>\n",
       "      <td>0.508233</td>\n",
       "      <td>0.514286</td>\n",
       "      <td>0.656250</td>\n",
       "      <td>0.576659</td>\n",
       "    </tr>\n",
       "    <tr>\n",
       "      <th>Multinomial Naive Bayes</th>\n",
       "      <td>0.507937</td>\n",
       "      <td>0.500000</td>\n",
       "      <td>0.507937</td>\n",
       "      <td>1.000000</td>\n",
       "      <td>0.673684</td>\n",
       "    </tr>\n",
       "    <tr>\n",
       "      <th>BernoulliNB</th>\n",
       "      <td>0.502646</td>\n",
       "      <td>0.495800</td>\n",
       "      <td>0.505682</td>\n",
       "      <td>0.927083</td>\n",
       "      <td>0.654412</td>\n",
       "    </tr>\n",
       "    <tr>\n",
       "      <th>CNN</th>\n",
       "      <td>0.497354</td>\n",
       "      <td>0.494792</td>\n",
       "      <td>0.504000</td>\n",
       "      <td>0.656250</td>\n",
       "      <td>0.570136</td>\n",
       "    </tr>\n",
       "    <tr>\n",
       "      <th>Random Forest Classifier</th>\n",
       "      <td>0.484127</td>\n",
       "      <td>0.479503</td>\n",
       "      <td>0.494983</td>\n",
       "      <td>0.770833</td>\n",
       "      <td>0.602851</td>\n",
       "    </tr>\n",
       "  </tbody>\n",
       "</table>\n",
       "</div>"
      ],
      "text/plain": [
       "                          Accuracy   ROC_AUC  Precision    Recall        F1\n",
       "Model                                                                      \n",
       "LSTM                      0.582011  0.581989   0.589474  0.583333  0.586387\n",
       "SVM Classifier            0.537037  0.533350   0.530686  0.765625  0.626866\n",
       "MLP                       0.515873  0.514701   0.520737  0.588542  0.552567\n",
       "Logistic Regression       0.515873  0.509241   0.512968  0.927083  0.660482\n",
       "XGBoost                   0.510582  0.508233   0.514286  0.656250  0.576659\n",
       "Multinomial Naive Bayes   0.507937  0.500000   0.507937  1.000000  0.673684\n",
       "BernoulliNB               0.502646  0.495800   0.505682  0.927083  0.654412\n",
       "CNN                       0.497354  0.494792   0.504000  0.656250  0.570136\n",
       "Random Forest Classifier  0.484127  0.479503   0.494983  0.770833  0.602851"
      ]
     },
     "execution_count": 62,
     "metadata": {},
     "output_type": "execute_result"
    }
   ],
   "source": [
    "# Prepare a dataframe using all the models with their performance measures\n",
    "df1=pd.DataFrame(model_evaluation,columns=['Model', 'Accuracy', 'ROC_AUC', 'Precision', 'Recall', 'F1'])\n",
    "df1.sort_values(['ROC_AUC'],ascending=False,inplace=True)\n",
    "df1=df1.set_index('Model')\n",
    "df1"
   ]
  },
  {
   "cell_type": "markdown",
   "metadata": {},
   "source": [
    "First, we run the SVM algorithm again here and then perform the tuning for some of the important hyper-parameters."
   ]
  },
  {
   "cell_type": "code",
   "execution_count": 63,
   "metadata": {},
   "outputs": [
    {
     "data": {
      "text/plain": [
       "Pipeline(memory=None,\n",
       "         steps=[('selector',\n",
       "                 FunctionTransformer(accept_sparse=False, check_inverse=True,\n",
       "                                     func=<function combine_text_columns at 0x000001DAF3913438>,\n",
       "                                     inv_kw_args=None, inverse_func=None,\n",
       "                                     kw_args=None, validate=False)),\n",
       "                ('vectorizer',\n",
       "                 CountVectorizer(analyzer=<function text_preprocess at 0x000001DAF3913288>,\n",
       "                                 binary=False, decode_error='strict',\n",
       "                                 dtype=<cla...\n",
       "                                  sublinear_tf=False, use_idf=True)),\n",
       "                ('dim_red',\n",
       "                 SelectKBest(k=10000,\n",
       "                             score_func=<function chi2 at 0x000001DAECD98048>)),\n",
       "                ('classifier',\n",
       "                 SVC(C=1.0, break_ties=False, cache_size=200, class_weight=None,\n",
       "                     coef0=0.0, decision_function_shape='ovr', degree=3,\n",
       "                     gamma='scale', kernel='rbf', max_iter=-1,\n",
       "                     probability=False, random_state=None, shrinking=True,\n",
       "                     tol=0.001, verbose=False))],\n",
       "         verbose=False)"
      ]
     },
     "execution_count": 63,
     "metadata": {},
     "output_type": "execute_result"
    }
   ],
   "source": [
    "# Extract the train and test sets\n",
    "y_train_svc = train['Label']\n",
    "X_train_svc = train.drop('Label', axis=1)\n",
    "\n",
    "y_test_svc = test['Label']\n",
    "X_test_svc = test.drop('Label', axis=1)\n",
    "\n",
    "\n",
    "# Perform preprocessing\n",
    "get_text_data = FunctionTransformer(combine_text_columns, validate=False)\n",
    "\n",
    "# Instantiate Pipeline object: pl\n",
    "pl_svc = Pipeline([\n",
    "        ('selector', get_text_data),\n",
    "        ('vectorizer', CountVectorizer(analyzer=text_preprocess, ngram_range=(1,2))),\n",
    "        ('tfidf', TfidfTransformer()),\n",
    "        ('dim_red', SelectKBest(chi2, chi_k)),\n",
    "        ('classifier', SVC())\n",
    "    ])\n",
    "\n",
    "# Fit to the training data\n",
    "pl_svc.fit(X_train_svc, y_train_svc)"
   ]
  },
  {
   "cell_type": "code",
   "execution_count": 64,
   "metadata": {},
   "outputs": [
    {
     "name": "stdout",
     "output_type": "stream",
     "text": [
      "Fitting 2 folds for each of 48 candidates, totalling 96 fits\n"
     ]
    },
    {
     "name": "stderr",
     "output_type": "stream",
     "text": [
      "[Parallel(n_jobs=-1)]: Using backend LokyBackend with 4 concurrent workers.\n",
      "[Parallel(n_jobs=-1)]: Done  42 tasks      | elapsed: 32.7min\n",
      "[Parallel(n_jobs=-1)]: Done  96 out of  96 | elapsed: 71.9min finished\n"
     ]
    },
    {
     "name": "stdout",
     "output_type": "stream",
     "text": [
      "Best Parameters: {'classifier__C': 0.1, 'classifier__gamma': 0.001, 'classifier__kernel': 'rbf'}\n",
      "Best score is 0.5418992648305412\n"
     ]
    }
   ],
   "source": [
    "# Setup the hyperparameter grid\n",
    "param_grid = {\n",
    "    'classifier__C': [0.1, 1, 10, 100],\n",
    "    'classifier__gamma': [0.001, 0.01, 0.1, 1], \n",
    "    'classifier__kernel': ['rbf', 'poly', 'sigmoid'] \n",
    "}\n",
    "\n",
    "# Instantiate the GridSearchCV object\n",
    "clf = GridSearchCV(pl_svc, param_grid, cv=2, verbose=1, n_jobs=-1)\n",
    "\n",
    "# Fit it to the data\n",
    "clf.fit(X_train_svc, y_train_svc)\n",
    "       \n",
    "# Print the tuned parameters and score\n",
    "print(\"Best Parameters: {}\".format(clf.best_params_)) \n",
    "print(\"Best score is {}\".format(clf.best_score_))"
   ]
  },
  {
   "cell_type": "markdown",
   "metadata": {},
   "source": [
    "The following section shows how to tune a deep learning model. However, due to the unstability in predicting stock movements, it does not yield a sensible value. "
   ]
  },
  {
   "cell_type": "code",
   "execution_count": 65,
   "metadata": {},
   "outputs": [],
   "source": [
    "max_features = 20000\n",
    "EMBEDDING_DIM = 100\n",
    "\n",
    "def get_new_model():\n",
    "    model = Sequential()\n",
    "    model.add(Embedding(max_features, 128, dropout=0.2))\n",
    "    model.add(LSTM(128, dropout=0.2, recurrent_dropout=0.2)) \n",
    "    model.add(Dense(2, activation='softmax'))\n",
    "    return model"
   ]
  },
  {
   "cell_type": "code",
   "execution_count": 66,
   "metadata": {},
   "outputs": [
    {
     "name": "stdout",
     "output_type": "stream",
     "text": [
      "\n",
      "\n",
      "Testing model with learning rate: 0.000001\n",
      "\n",
      "Train on 1611 samples, validate on 378 samples\n",
      "Epoch 1/10\n",
      "1611/1611 [==============================] - 10s 6ms/step - loss: 0.6929 - accuracy: 0.5003 - val_loss: 0.6934 - val_accuracy: 0.4947\n",
      "Epoch 2/10\n",
      "1611/1611 [==============================] - 10s 6ms/step - loss: 0.6927 - accuracy: 0.5140 - val_loss: 0.6934 - val_accuracy: 0.4974\n",
      "Epoch 3/10\n",
      "1611/1611 [==============================] - 10s 6ms/step - loss: 0.6926 - accuracy: 0.5351 - val_loss: 0.6934 - val_accuracy: 0.5000\n",
      "Epoch 4/10\n",
      "1611/1611 [==============================] - 10s 6ms/step - loss: 0.6929 - accuracy: 0.5146 - val_loss: 0.6934 - val_accuracy: 0.5026\n",
      "Epoch 5/10\n",
      "1611/1611 [==============================] - 10s 6ms/step - loss: 0.6928 - accuracy: 0.5183 - val_loss: 0.6934 - val_accuracy: 0.5079\n",
      "Epoch 6/10\n",
      "1611/1611 [==============================] - 10s 6ms/step - loss: 0.6926 - accuracy: 0.5289 - val_loss: 0.6934 - val_accuracy: 0.5053\n",
      "Epoch 7/10\n",
      "1611/1611 [==============================] - 10s 6ms/step - loss: 0.6926 - accuracy: 0.5369 - val_loss: 0.6934 - val_accuracy: 0.5079\n",
      "Epoch 8/10\n",
      "1611/1611 [==============================] - 10s 6ms/step - loss: 0.6925 - accuracy: 0.5258 - val_loss: 0.6934 - val_accuracy: 0.5079\n",
      "Epoch 9/10\n",
      "1611/1611 [==============================] - 10s 6ms/step - loss: 0.6924 - accuracy: 0.5332 - val_loss: 0.6934 - val_accuracy: 0.5079\n",
      "Epoch 10/10\n",
      "1611/1611 [==============================] - 10s 6ms/step - loss: 0.6925 - accuracy: 0.5258 - val_loss: 0.6934 - val_accuracy: 0.5132\n",
      "\n",
      "\n",
      "Testing model with learning rate: 0.010000\n",
      "\n",
      "Train on 1611 samples, validate on 378 samples\n",
      "Epoch 1/10\n",
      "1611/1611 [==============================] - 10s 6ms/step - loss: 0.6981 - accuracy: 0.5202 - val_loss: 0.6986 - val_accuracy: 0.5053\n",
      "Epoch 2/10\n",
      "1611/1611 [==============================] - 10s 6ms/step - loss: 0.5366 - accuracy: 0.7865 - val_loss: 0.8192 - val_accuracy: 0.5000\n",
      "Epoch 3/10\n",
      "1611/1611 [==============================] - 10s 6ms/step - loss: 0.1646 - accuracy: 0.9441 - val_loss: 1.1126 - val_accuracy: 0.5714\n",
      "Epoch 4/10\n",
      "1611/1611 [==============================] - 10s 6ms/step - loss: 0.0379 - accuracy: 0.9882 - val_loss: 1.7909 - val_accuracy: 0.5582\n",
      "Epoch 5/10\n",
      "1611/1611 [==============================] - 10s 6ms/step - loss: 0.0115 - accuracy: 0.9957 - val_loss: 1.9588 - val_accuracy: 0.5476\n",
      "Epoch 6/10\n",
      "1611/1611 [==============================] - 10s 6ms/step - loss: 0.0018 - accuracy: 1.0000 - val_loss: 2.1587 - val_accuracy: 0.5397\n",
      "Epoch 7/10\n",
      "1611/1611 [==============================] - 10s 6ms/step - loss: 9.3929e-04 - accuracy: 1.0000 - val_loss: 2.2096 - val_accuracy: 0.5582\n",
      "Epoch 8/10\n",
      "1611/1611 [==============================] - 10s 6ms/step - loss: 4.8364e-04 - accuracy: 1.0000 - val_loss: 2.2155 - val_accuracy: 0.5582\n",
      "Epoch 9/10\n",
      "1611/1611 [==============================] - 10s 6ms/step - loss: 3.3896e-04 - accuracy: 1.0000 - val_loss: 2.2640 - val_accuracy: 0.5529\n",
      "Epoch 10/10\n",
      "1611/1611 [==============================] - 10s 6ms/step - loss: 2.0701e-04 - accuracy: 1.0000 - val_loss: 2.3535 - val_accuracy: 0.5476\n",
      "\n",
      "\n",
      "Testing model with learning rate: 1.000000\n",
      "\n",
      "Train on 1611 samples, validate on 378 samples\n",
      "Epoch 1/10\n",
      "1611/1611 [==============================] - 10s 6ms/step - loss: 6.8331 - accuracy: 0.4873 - val_loss: 6.9039 - val_accuracy: 0.5000\n",
      "Epoch 2/10\n",
      "1611/1611 [==============================] - 10s 6ms/step - loss: 7.0544 - accuracy: 0.4997 - val_loss: 7.3650 - val_accuracy: 0.4894\n",
      "Epoch 3/10\n",
      "1611/1611 [==============================] - 10s 6ms/step - loss: 7.2690 - accuracy: 0.4916 - val_loss: 7.0711 - val_accuracy: 0.5106\n",
      "Epoch 4/10\n",
      "1611/1611 [==============================] - 10s 6ms/step - loss: 6.8802 - accuracy: 0.5295 - val_loss: 7.4676 - val_accuracy: 0.5026\n",
      "Epoch 5/10\n",
      "1611/1611 [==============================] - 10s 6ms/step - loss: 6.8096 - accuracy: 0.5369 - val_loss: 7.4236 - val_accuracy: 0.5053\n",
      "Epoch 6/10\n",
      "1611/1611 [==============================] - 10s 6ms/step - loss: 6.7435 - accuracy: 0.5438 - val_loss: 7.6497 - val_accuracy: 0.4921\n",
      "Epoch 7/10\n",
      "1611/1611 [==============================] - 10s 6ms/step - loss: 6.8647 - accuracy: 0.5425 - val_loss: 7.5309 - val_accuracy: 0.4974\n",
      "Epoch 8/10\n",
      "1611/1611 [==============================] - 10s 6ms/step - loss: 6.8445 - accuracy: 0.5450 - val_loss: 7.3420 - val_accuracy: 0.5159\n",
      "Epoch 9/10\n",
      "1611/1611 [==============================] - 10s 6ms/step - loss: 7.0301 - accuracy: 0.5313 - val_loss: 7.6454 - val_accuracy: 0.4947\n",
      "Epoch 10/10\n",
      "1611/1611 [==============================] - 10s 6ms/step - loss: 6.8952 - accuracy: 0.5425 - val_loss: 7.5415 - val_accuracy: 0.5000\n"
     ]
    }
   ],
   "source": [
    "# Create list of learning rates: lr_to_test\n",
    "lr_to_test = [0.000001, 0.01, 1]\n",
    "\n",
    "# Loop over learning rates\n",
    "for lr in lr_to_test:\n",
    "    print('\\n\\nTesting model with learning rate: %f\\n'%lr )\n",
    "    \n",
    "    # Build new model to test, unaffected by previous models\n",
    "    model = get_new_model()\n",
    "    \n",
    "    # Create SGD optimizer with specified learning rate: my_optimizer\n",
    "    my_optimizer = Adam(lr=lr)\n",
    "    \n",
    "    # Compile the model\n",
    "    model.compile(optimizer=my_optimizer, loss='binary_crossentropy', metrics=['accuracy'])\n",
    "    \n",
    "    # Fit the model\n",
    "    model.fit(X_train, y_train, epochs=10, validation_data=(X_test, y_test))"
   ]
  },
  {
   "cell_type": "code",
   "execution_count": 67,
   "metadata": {},
   "outputs": [
    {
     "name": "stdout",
     "output_type": "stream",
     "text": [
      "Train on 1611 samples, validate on 378 samples\n",
      "Epoch 1/15\n",
      "1611/1611 [==============================] - 10s 6ms/step - loss: 0.6991 - accuracy: 0.5152 - val_loss: 0.6928 - val_accuracy: 0.4974\n",
      "Epoch 2/15\n",
      "1611/1611 [==============================] - 10s 6ms/step - loss: 0.4333 - accuracy: 0.8318 - val_loss: 0.9091 - val_accuracy: 0.5344\n",
      "Epoch 3/15\n",
      "1611/1611 [==============================] - 10s 6ms/step - loss: 0.1098 - accuracy: 0.9559 - val_loss: 1.4042 - val_accuracy: 0.5397\n"
     ]
    },
    {
     "data": {
      "text/plain": [
       "<keras.callbacks.callbacks.History at 0x1da94df49c8>"
      ]
     },
     "execution_count": 67,
     "metadata": {},
     "output_type": "execute_result"
    }
   ],
   "source": [
    "# Set up the model\n",
    "model = Sequential()\n",
    "\n",
    "model.add(Embedding(max_features, 128, dropout=0.2))\n",
    "model.add(LSTM(128, dropout=0.2, recurrent_dropout=0.2)) \n",
    "\n",
    "# Add the output layer\n",
    "model.add(Dense(2, activation='softmax'))\n",
    "\n",
    "# Compile the model\n",
    "model.compile(loss='binary_crossentropy',\n",
    "              optimizer=Adam(lr=0.01),\n",
    "              metrics=['accuracy'])\n",
    "\n",
    "# Define early_stopping_monitor\n",
    "early_stopping_monitor = EarlyStopping(patience=2)\n",
    "                                       \n",
    "# Fit the model\n",
    "model.fit(X_train, y_train, epochs=15, \n",
    "          validation_data=(X_test, y_test), validation_split=0.3,\n",
    "          callbacks=[early_stopping_monitor])"
   ]
  },
  {
   "cell_type": "code",
   "execution_count": 68,
   "metadata": {},
   "outputs": [
    {
     "name": "stdout",
     "output_type": "stream",
     "text": [
      "Test accuracy: 0.5396825671195984\n"
     ]
    }
   ],
   "source": [
    "# Evaluate the model\n",
    "score= model.evaluate(X_test, y_test, verbose=0)\n",
    "print('Test accuracy:', score[1])"
   ]
  },
  {
   "cell_type": "markdown",
   "metadata": {},
   "source": [
    "<a href=\"#Table-of-Contents\">Back to Top</a> <br>"
   ]
  },
  {
   "cell_type": "markdown",
   "metadata": {},
   "source": [
    "# 5. Conclusion"
   ]
  },
  {
   "cell_type": "markdown",
   "metadata": {},
   "source": [
    "In this project, we attempted to predict the DJIA stock movements using the historical news headlines extracted from the Reddit. The highest accuracy score that we obtained from our models was 58%. There are many factors affecting the accuracy score for stock predictions. First of all, we have limited data which affects the performance of the models. Therefore, adding more data would increase the performance of the models in predicting the DJIA stock movements. Also, the stock prediction itself is a very difficult task and is affected from a variety of factors. Considering the difficulty of predicting stock movements and under these limitations, overall, our models did pretty good in predicting the stock movements of the Dow Jones."
   ]
  },
  {
   "cell_type": "markdown",
   "metadata": {},
   "source": [
    "<a href=\"#Table-of-Contents\">Back to Top</a> <br>"
   ]
  }
 ],
 "metadata": {
  "kernelspec": {
   "display_name": "Python 3",
   "language": "python",
   "name": "python3"
  },
  "language_info": {
   "codemirror_mode": {
    "name": "ipython",
    "version": 3
   },
   "file_extension": ".py",
   "mimetype": "text/x-python",
   "name": "python",
   "nbconvert_exporter": "python",
   "pygments_lexer": "ipython3",
   "version": "3.7.7"
  }
 },
 "nbformat": 4,
 "nbformat_minor": 4
}
